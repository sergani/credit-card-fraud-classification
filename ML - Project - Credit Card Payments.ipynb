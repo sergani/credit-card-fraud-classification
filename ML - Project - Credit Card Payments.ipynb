{
 "cells": [
  {
   "cell_type": "code",
   "execution_count": 42,
   "metadata": {
    "execution": {
     "iopub.execute_input": "2022-11-05T15:17:23.873319Z",
     "iopub.status.busy": "2022-11-05T15:17:23.872938Z",
     "iopub.status.idle": "2022-11-05T15:17:23.883487Z",
     "shell.execute_reply": "2022-11-05T15:17:23.882838Z",
     "shell.execute_reply.started": "2022-11-05T15:17:23.873294Z"
    },
    "tags": []
   },
   "outputs": [],
   "source": [
    "import matplotlib as mpl\n",
    "import matplotlib.pyplot as plt\n",
    "import numpy as np\n",
    "import os\n",
    "import pandas as pd\n",
    "import seaborn as sns\n",
    "import shutil\n",
    "\n",
    "from collections import Counter\n",
    "from imblearn.over_sampling import SMOTE\n",
    "from imblearn.under_sampling import RandomUnderSampler\n",
    "from matplotlib import ticker\n",
    "from scipy.cluster.hierarchy import dendrogram, linkage\n",
    "from sklearn import metrics\n",
    "from sklearn.cluster import AgglomerativeClustering\n",
    "from sklearn.cluster import dbscan\n",
    "from sklearn.cluster import DBSCAN\n",
    "from sklearn.cluster import KMeans\n",
    "from sklearn.decomposition import PCA\n",
    "from sklearn.ensemble import RandomForestClassifier\n",
    "from sklearn.ensemble import RandomForestRegressor\n",
    "from sklearn.ensemble import VotingClassifier\n",
    "from sklearn.exceptions import ConvergenceWarning\n",
    "from sklearn.feature_selection import r_regression, SelectKBest\n",
    "from sklearn.feature_selection import r_regression, SelectPercentile\n",
    "from sklearn.linear_model import LogisticRegression\n",
    "from sklearn.metrics import silhouette_score, davies_bouldin_score\n",
    "from sklearn.metrics import roc_auc_score\n",
    "from sklearn.metrics import roc_curve\n",
    "from sklearn.model_selection import GridSearchCV\n",
    "from sklearn.model_selection import RepeatedStratifiedKFold\n",
    "from sklearn.model_selection import train_test_split\n",
    "from sklearn.naive_bayes import GaussianNB\n",
    "from sklearn.neighbors import KNeighborsClassifier\n",
    "from sklearn.neighbors import NearestNeighbors\n",
    "from sklearn.preprocessing import OrdinalEncoder\n",
    "from sklearn.svm import SVC\n",
    "from sklearn.tree import DecisionTreeClassifier\n",
    "from sklearn.utils._testing import ignore_warnings\n",
    "from tabulate import tabulate\n",
    "from xgboost import XGBClassifier\n",
    "\n",
    "%matplotlib inline\n"
   ]
  },
  {
   "cell_type": "code",
   "execution_count": 43,
   "metadata": {
    "execution": {
     "iopub.execute_input": "2022-11-05T15:17:23.949360Z",
     "iopub.status.busy": "2022-11-05T15:17:23.948852Z",
     "iopub.status.idle": "2022-11-05T15:17:23.952054Z",
     "shell.execute_reply": "2022-11-05T15:17:23.951568Z",
     "shell.execute_reply.started": "2022-11-05T15:17:23.949339Z"
    },
    "tags": []
   },
   "outputs": [],
   "source": [
    "pd.set_option('display.show_dimensions', True)\n",
    "pd.set_option('display.max_columns', 200)"
   ]
  },
  {
   "cell_type": "markdown",
   "metadata": {},
   "source": [
    "# Load Data"
   ]
  },
  {
   "cell_type": "code",
   "execution_count": 44,
   "metadata": {
    "execution": {
     "iopub.execute_input": "2022-11-05T15:17:23.953268Z",
     "iopub.status.busy": "2022-11-05T15:17:23.952909Z",
     "iopub.status.idle": "2022-11-05T15:17:28.864921Z",
     "shell.execute_reply": "2022-11-05T15:17:28.864216Z",
     "shell.execute_reply.started": "2022-11-05T15:17:23.953250Z"
    },
    "tags": []
   },
   "outputs": [
    {
     "name": "stdout",
     "output_type": "stream",
     "text": [
      "rm: cannot remove 'data/': No such file or directory\n",
      "/opt/conda/envs/saturn/lib/python3.9/site-packages/gdown/cli.py:121: FutureWarning: Option `--id` was deprecated in version 4.3.1 and will be removed in 5.0. You don't need to pass it anymore to use a file ID.\n",
      "  warnings.warn(\n",
      "Downloading...\n",
      "From: https://drive.google.com/uc?id=1T7vO3VUlacA-gj_B-rlJXXbOJea_XlKN\n",
      "To: /home/jovyan/workspace/creditcard dataset.csv\n",
      "100%|█████████████████████████████████████████| 151M/151M [00:01<00:00, 138MB/s]\n"
     ]
    }
   ],
   "source": [
    "# df = pd.read_csv('~/Downloads/creditcard dataset.csv')\n",
    "!rm -r data/\n",
    "!gdown --id 1T7vO3VUlacA-gj_B-rlJXXbOJea_XlKN\n",
    "\n",
    "#save Dataset to dataframe\n",
    "df = pd.read_csv('creditcard dataset.csv')"
   ]
  },
  {
   "cell_type": "markdown",
   "metadata": {},
   "source": [
    "# Inspect Data"
   ]
  },
  {
   "cell_type": "code",
   "execution_count": 45,
   "metadata": {
    "execution": {
     "iopub.execute_input": "2022-11-05T15:17:28.866241Z",
     "iopub.status.busy": "2022-11-05T15:17:28.865923Z",
     "iopub.status.idle": "2022-11-05T15:17:28.870360Z",
     "shell.execute_reply": "2022-11-05T15:17:28.869905Z",
     "shell.execute_reply.started": "2022-11-05T15:17:28.866215Z"
    },
    "tags": []
   },
   "outputs": [
    {
     "data": {
      "text/plain": [
       "(284807, 31)"
      ]
     },
     "execution_count": 45,
     "metadata": {},
     "output_type": "execute_result"
    }
   ],
   "source": [
    "df.shape"
   ]
  },
  {
   "cell_type": "code",
   "execution_count": 46,
   "metadata": {
    "execution": {
     "iopub.execute_input": "2022-11-05T15:17:28.871653Z",
     "iopub.status.busy": "2022-11-05T15:17:28.871402Z",
     "iopub.status.idle": "2022-11-05T15:17:28.893379Z",
     "shell.execute_reply": "2022-11-05T15:17:28.892949Z",
     "shell.execute_reply.started": "2022-11-05T15:17:28.871631Z"
    },
    "tags": []
   },
   "outputs": [
    {
     "data": {
      "text/html": [
       "<div>\n",
       "<style scoped>\n",
       "    .dataframe tbody tr th:only-of-type {\n",
       "        vertical-align: middle;\n",
       "    }\n",
       "\n",
       "    .dataframe tbody tr th {\n",
       "        vertical-align: top;\n",
       "    }\n",
       "\n",
       "    .dataframe thead th {\n",
       "        text-align: right;\n",
       "    }\n",
       "</style>\n",
       "<table border=\"1\" class=\"dataframe\">\n",
       "  <thead>\n",
       "    <tr style=\"text-align: right;\">\n",
       "      <th></th>\n",
       "      <th>Time</th>\n",
       "      <th>V1</th>\n",
       "      <th>V2</th>\n",
       "      <th>V3</th>\n",
       "      <th>V4</th>\n",
       "      <th>V5</th>\n",
       "      <th>V6</th>\n",
       "      <th>V7</th>\n",
       "      <th>V8</th>\n",
       "      <th>V9</th>\n",
       "      <th>V10</th>\n",
       "      <th>V11</th>\n",
       "      <th>V12</th>\n",
       "      <th>V13</th>\n",
       "      <th>V14</th>\n",
       "      <th>V15</th>\n",
       "      <th>V16</th>\n",
       "      <th>V17</th>\n",
       "      <th>V18</th>\n",
       "      <th>V19</th>\n",
       "      <th>V20</th>\n",
       "      <th>V21</th>\n",
       "      <th>V22</th>\n",
       "      <th>V23</th>\n",
       "      <th>V24</th>\n",
       "      <th>V25</th>\n",
       "      <th>V26</th>\n",
       "      <th>V27</th>\n",
       "      <th>V28</th>\n",
       "      <th>Amount</th>\n",
       "      <th>Class</th>\n",
       "    </tr>\n",
       "  </thead>\n",
       "  <tbody>\n",
       "    <tr>\n",
       "      <th>0</th>\n",
       "      <td>0.0</td>\n",
       "      <td>-1.359807</td>\n",
       "      <td>-0.072781</td>\n",
       "      <td>2.536347</td>\n",
       "      <td>1.378155</td>\n",
       "      <td>-0.338321</td>\n",
       "      <td>0.462388</td>\n",
       "      <td>0.239599</td>\n",
       "      <td>0.098698</td>\n",
       "      <td>0.363787</td>\n",
       "      <td>0.090794</td>\n",
       "      <td>-0.551600</td>\n",
       "      <td>-0.617801</td>\n",
       "      <td>-0.991390</td>\n",
       "      <td>-0.311169</td>\n",
       "      <td>1.468177</td>\n",
       "      <td>-0.470401</td>\n",
       "      <td>0.207971</td>\n",
       "      <td>0.025791</td>\n",
       "      <td>0.403993</td>\n",
       "      <td>0.251412</td>\n",
       "      <td>-0.018307</td>\n",
       "      <td>0.277838</td>\n",
       "      <td>-0.110474</td>\n",
       "      <td>0.066928</td>\n",
       "      <td>0.128539</td>\n",
       "      <td>-0.189115</td>\n",
       "      <td>0.133558</td>\n",
       "      <td>-0.021053</td>\n",
       "      <td>149.62</td>\n",
       "      <td>0</td>\n",
       "    </tr>\n",
       "    <tr>\n",
       "      <th>1</th>\n",
       "      <td>0.0</td>\n",
       "      <td>1.191857</td>\n",
       "      <td>0.266151</td>\n",
       "      <td>0.166480</td>\n",
       "      <td>0.448154</td>\n",
       "      <td>0.060018</td>\n",
       "      <td>-0.082361</td>\n",
       "      <td>-0.078803</td>\n",
       "      <td>0.085102</td>\n",
       "      <td>-0.255425</td>\n",
       "      <td>-0.166974</td>\n",
       "      <td>1.612727</td>\n",
       "      <td>1.065235</td>\n",
       "      <td>0.489095</td>\n",
       "      <td>-0.143772</td>\n",
       "      <td>0.635558</td>\n",
       "      <td>0.463917</td>\n",
       "      <td>-0.114805</td>\n",
       "      <td>-0.183361</td>\n",
       "      <td>-0.145783</td>\n",
       "      <td>-0.069083</td>\n",
       "      <td>-0.225775</td>\n",
       "      <td>-0.638672</td>\n",
       "      <td>0.101288</td>\n",
       "      <td>-0.339846</td>\n",
       "      <td>0.167170</td>\n",
       "      <td>0.125895</td>\n",
       "      <td>-0.008983</td>\n",
       "      <td>0.014724</td>\n",
       "      <td>2.69</td>\n",
       "      <td>0</td>\n",
       "    </tr>\n",
       "    <tr>\n",
       "      <th>2</th>\n",
       "      <td>1.0</td>\n",
       "      <td>-1.358354</td>\n",
       "      <td>-1.340163</td>\n",
       "      <td>1.773209</td>\n",
       "      <td>0.379780</td>\n",
       "      <td>-0.503198</td>\n",
       "      <td>1.800499</td>\n",
       "      <td>0.791461</td>\n",
       "      <td>0.247676</td>\n",
       "      <td>-1.514654</td>\n",
       "      <td>0.207643</td>\n",
       "      <td>0.624501</td>\n",
       "      <td>0.066084</td>\n",
       "      <td>0.717293</td>\n",
       "      <td>-0.165946</td>\n",
       "      <td>2.345865</td>\n",
       "      <td>-2.890083</td>\n",
       "      <td>1.109969</td>\n",
       "      <td>-0.121359</td>\n",
       "      <td>-2.261857</td>\n",
       "      <td>0.524980</td>\n",
       "      <td>0.247998</td>\n",
       "      <td>0.771679</td>\n",
       "      <td>0.909412</td>\n",
       "      <td>-0.689281</td>\n",
       "      <td>-0.327642</td>\n",
       "      <td>-0.139097</td>\n",
       "      <td>-0.055353</td>\n",
       "      <td>-0.059752</td>\n",
       "      <td>378.66</td>\n",
       "      <td>0</td>\n",
       "    </tr>\n",
       "    <tr>\n",
       "      <th>3</th>\n",
       "      <td>1.0</td>\n",
       "      <td>-0.966272</td>\n",
       "      <td>-0.185226</td>\n",
       "      <td>1.792993</td>\n",
       "      <td>-0.863291</td>\n",
       "      <td>-0.010309</td>\n",
       "      <td>1.247203</td>\n",
       "      <td>0.237609</td>\n",
       "      <td>0.377436</td>\n",
       "      <td>-1.387024</td>\n",
       "      <td>-0.054952</td>\n",
       "      <td>-0.226487</td>\n",
       "      <td>0.178228</td>\n",
       "      <td>0.507757</td>\n",
       "      <td>-0.287924</td>\n",
       "      <td>-0.631418</td>\n",
       "      <td>-1.059647</td>\n",
       "      <td>-0.684093</td>\n",
       "      <td>1.965775</td>\n",
       "      <td>-1.232622</td>\n",
       "      <td>-0.208038</td>\n",
       "      <td>-0.108300</td>\n",
       "      <td>0.005274</td>\n",
       "      <td>-0.190321</td>\n",
       "      <td>-1.175575</td>\n",
       "      <td>0.647376</td>\n",
       "      <td>-0.221929</td>\n",
       "      <td>0.062723</td>\n",
       "      <td>0.061458</td>\n",
       "      <td>123.50</td>\n",
       "      <td>0</td>\n",
       "    </tr>\n",
       "    <tr>\n",
       "      <th>4</th>\n",
       "      <td>2.0</td>\n",
       "      <td>-1.158233</td>\n",
       "      <td>0.877737</td>\n",
       "      <td>1.548718</td>\n",
       "      <td>0.403034</td>\n",
       "      <td>-0.407193</td>\n",
       "      <td>0.095921</td>\n",
       "      <td>0.592941</td>\n",
       "      <td>-0.270533</td>\n",
       "      <td>0.817739</td>\n",
       "      <td>0.753074</td>\n",
       "      <td>-0.822843</td>\n",
       "      <td>0.538196</td>\n",
       "      <td>1.345852</td>\n",
       "      <td>-1.119670</td>\n",
       "      <td>0.175121</td>\n",
       "      <td>-0.451449</td>\n",
       "      <td>-0.237033</td>\n",
       "      <td>-0.038195</td>\n",
       "      <td>0.803487</td>\n",
       "      <td>0.408542</td>\n",
       "      <td>-0.009431</td>\n",
       "      <td>0.798278</td>\n",
       "      <td>-0.137458</td>\n",
       "      <td>0.141267</td>\n",
       "      <td>-0.206010</td>\n",
       "      <td>0.502292</td>\n",
       "      <td>0.219422</td>\n",
       "      <td>0.215153</td>\n",
       "      <td>69.99</td>\n",
       "      <td>0</td>\n",
       "    </tr>\n",
       "  </tbody>\n",
       "</table>\n",
       "<p>5 rows × 31 columns</p>\n",
       "</div>"
      ],
      "text/plain": [
       "   Time        V1        V2        V3        V4        V5        V6        V7  \\\n",
       "0   0.0 -1.359807 -0.072781  2.536347  1.378155 -0.338321  0.462388  0.239599   \n",
       "1   0.0  1.191857  0.266151  0.166480  0.448154  0.060018 -0.082361 -0.078803   \n",
       "2   1.0 -1.358354 -1.340163  1.773209  0.379780 -0.503198  1.800499  0.791461   \n",
       "3   1.0 -0.966272 -0.185226  1.792993 -0.863291 -0.010309  1.247203  0.237609   \n",
       "4   2.0 -1.158233  0.877737  1.548718  0.403034 -0.407193  0.095921  0.592941   \n",
       "\n",
       "         V8        V9       V10       V11       V12       V13       V14  \\\n",
       "0  0.098698  0.363787  0.090794 -0.551600 -0.617801 -0.991390 -0.311169   \n",
       "1  0.085102 -0.255425 -0.166974  1.612727  1.065235  0.489095 -0.143772   \n",
       "2  0.247676 -1.514654  0.207643  0.624501  0.066084  0.717293 -0.165946   \n",
       "3  0.377436 -1.387024 -0.054952 -0.226487  0.178228  0.507757 -0.287924   \n",
       "4 -0.270533  0.817739  0.753074 -0.822843  0.538196  1.345852 -1.119670   \n",
       "\n",
       "        V15       V16       V17       V18       V19       V20       V21  \\\n",
       "0  1.468177 -0.470401  0.207971  0.025791  0.403993  0.251412 -0.018307   \n",
       "1  0.635558  0.463917 -0.114805 -0.183361 -0.145783 -0.069083 -0.225775   \n",
       "2  2.345865 -2.890083  1.109969 -0.121359 -2.261857  0.524980  0.247998   \n",
       "3 -0.631418 -1.059647 -0.684093  1.965775 -1.232622 -0.208038 -0.108300   \n",
       "4  0.175121 -0.451449 -0.237033 -0.038195  0.803487  0.408542 -0.009431   \n",
       "\n",
       "        V22       V23       V24       V25       V26       V27       V28  \\\n",
       "0  0.277838 -0.110474  0.066928  0.128539 -0.189115  0.133558 -0.021053   \n",
       "1 -0.638672  0.101288 -0.339846  0.167170  0.125895 -0.008983  0.014724   \n",
       "2  0.771679  0.909412 -0.689281 -0.327642 -0.139097 -0.055353 -0.059752   \n",
       "3  0.005274 -0.190321 -1.175575  0.647376 -0.221929  0.062723  0.061458   \n",
       "4  0.798278 -0.137458  0.141267 -0.206010  0.502292  0.219422  0.215153   \n",
       "\n",
       "   Amount  Class  \n",
       "0  149.62      0  \n",
       "1    2.69      0  \n",
       "2  378.66      0  \n",
       "3  123.50      0  \n",
       "4   69.99      0  \n",
       "\n",
       "[5 rows x 31 columns]"
      ]
     },
     "execution_count": 46,
     "metadata": {},
     "output_type": "execute_result"
    }
   ],
   "source": [
    "df.head()"
   ]
  },
  {
   "cell_type": "code",
   "execution_count": 47,
   "metadata": {
    "execution": {
     "iopub.execute_input": "2022-11-05T15:17:28.894275Z",
     "iopub.status.busy": "2022-11-05T15:17:28.894023Z",
     "iopub.status.idle": "2022-11-05T15:17:29.251995Z",
     "shell.execute_reply": "2022-11-05T15:17:29.251292Z",
     "shell.execute_reply.started": "2022-11-05T15:17:28.894256Z"
    },
    "tags": []
   },
   "outputs": [
    {
     "data": {
      "text/html": [
       "<div>\n",
       "<style scoped>\n",
       "    .dataframe tbody tr th:only-of-type {\n",
       "        vertical-align: middle;\n",
       "    }\n",
       "\n",
       "    .dataframe tbody tr th {\n",
       "        vertical-align: top;\n",
       "    }\n",
       "\n",
       "    .dataframe thead th {\n",
       "        text-align: right;\n",
       "    }\n",
       "</style>\n",
       "<table border=\"1\" class=\"dataframe\">\n",
       "  <thead>\n",
       "    <tr style=\"text-align: right;\">\n",
       "      <th></th>\n",
       "      <th>Time</th>\n",
       "      <th>V1</th>\n",
       "      <th>V2</th>\n",
       "      <th>V3</th>\n",
       "      <th>V4</th>\n",
       "      <th>V5</th>\n",
       "      <th>V6</th>\n",
       "      <th>V7</th>\n",
       "      <th>V8</th>\n",
       "      <th>V9</th>\n",
       "      <th>V10</th>\n",
       "      <th>V11</th>\n",
       "      <th>V12</th>\n",
       "      <th>V13</th>\n",
       "      <th>V14</th>\n",
       "      <th>V15</th>\n",
       "      <th>V16</th>\n",
       "      <th>V17</th>\n",
       "      <th>V18</th>\n",
       "      <th>V19</th>\n",
       "      <th>V20</th>\n",
       "      <th>V21</th>\n",
       "      <th>V22</th>\n",
       "      <th>V23</th>\n",
       "      <th>V24</th>\n",
       "      <th>V25</th>\n",
       "      <th>V26</th>\n",
       "      <th>V27</th>\n",
       "      <th>V28</th>\n",
       "      <th>Amount</th>\n",
       "      <th>Class</th>\n",
       "    </tr>\n",
       "  </thead>\n",
       "  <tbody>\n",
       "    <tr>\n",
       "      <th>count</th>\n",
       "      <td>284807.000000</td>\n",
       "      <td>2.848070e+05</td>\n",
       "      <td>2.848070e+05</td>\n",
       "      <td>2.848070e+05</td>\n",
       "      <td>2.848070e+05</td>\n",
       "      <td>2.848070e+05</td>\n",
       "      <td>2.848070e+05</td>\n",
       "      <td>2.848070e+05</td>\n",
       "      <td>2.848070e+05</td>\n",
       "      <td>2.848070e+05</td>\n",
       "      <td>2.848070e+05</td>\n",
       "      <td>2.848070e+05</td>\n",
       "      <td>2.848070e+05</td>\n",
       "      <td>2.848070e+05</td>\n",
       "      <td>2.848070e+05</td>\n",
       "      <td>2.848070e+05</td>\n",
       "      <td>2.848070e+05</td>\n",
       "      <td>2.848070e+05</td>\n",
       "      <td>2.848070e+05</td>\n",
       "      <td>2.848070e+05</td>\n",
       "      <td>2.848070e+05</td>\n",
       "      <td>2.848070e+05</td>\n",
       "      <td>2.848070e+05</td>\n",
       "      <td>2.848070e+05</td>\n",
       "      <td>2.848070e+05</td>\n",
       "      <td>2.848070e+05</td>\n",
       "      <td>2.848070e+05</td>\n",
       "      <td>2.848070e+05</td>\n",
       "      <td>2.848070e+05</td>\n",
       "      <td>284807.000000</td>\n",
       "      <td>284807.000000</td>\n",
       "    </tr>\n",
       "    <tr>\n",
       "      <th>mean</th>\n",
       "      <td>94813.859575</td>\n",
       "      <td>1.168375e-15</td>\n",
       "      <td>3.416908e-16</td>\n",
       "      <td>-1.379537e-15</td>\n",
       "      <td>2.074095e-15</td>\n",
       "      <td>9.604066e-16</td>\n",
       "      <td>1.487313e-15</td>\n",
       "      <td>-5.556467e-16</td>\n",
       "      <td>1.213481e-16</td>\n",
       "      <td>-2.406331e-15</td>\n",
       "      <td>2.239053e-15</td>\n",
       "      <td>1.673327e-15</td>\n",
       "      <td>-1.247012e-15</td>\n",
       "      <td>8.190001e-16</td>\n",
       "      <td>1.207294e-15</td>\n",
       "      <td>4.887456e-15</td>\n",
       "      <td>1.437716e-15</td>\n",
       "      <td>-3.772171e-16</td>\n",
       "      <td>9.564149e-16</td>\n",
       "      <td>1.039917e-15</td>\n",
       "      <td>6.406204e-16</td>\n",
       "      <td>1.654067e-16</td>\n",
       "      <td>-3.568593e-16</td>\n",
       "      <td>2.578648e-16</td>\n",
       "      <td>4.473266e-15</td>\n",
       "      <td>5.340915e-16</td>\n",
       "      <td>1.683437e-15</td>\n",
       "      <td>-3.660091e-16</td>\n",
       "      <td>-1.227390e-16</td>\n",
       "      <td>88.349619</td>\n",
       "      <td>0.001727</td>\n",
       "    </tr>\n",
       "    <tr>\n",
       "      <th>std</th>\n",
       "      <td>47488.145955</td>\n",
       "      <td>1.958696e+00</td>\n",
       "      <td>1.651309e+00</td>\n",
       "      <td>1.516255e+00</td>\n",
       "      <td>1.415869e+00</td>\n",
       "      <td>1.380247e+00</td>\n",
       "      <td>1.332271e+00</td>\n",
       "      <td>1.237094e+00</td>\n",
       "      <td>1.194353e+00</td>\n",
       "      <td>1.098632e+00</td>\n",
       "      <td>1.088850e+00</td>\n",
       "      <td>1.020713e+00</td>\n",
       "      <td>9.992014e-01</td>\n",
       "      <td>9.952742e-01</td>\n",
       "      <td>9.585956e-01</td>\n",
       "      <td>9.153160e-01</td>\n",
       "      <td>8.762529e-01</td>\n",
       "      <td>8.493371e-01</td>\n",
       "      <td>8.381762e-01</td>\n",
       "      <td>8.140405e-01</td>\n",
       "      <td>7.709250e-01</td>\n",
       "      <td>7.345240e-01</td>\n",
       "      <td>7.257016e-01</td>\n",
       "      <td>6.244603e-01</td>\n",
       "      <td>6.056471e-01</td>\n",
       "      <td>5.212781e-01</td>\n",
       "      <td>4.822270e-01</td>\n",
       "      <td>4.036325e-01</td>\n",
       "      <td>3.300833e-01</td>\n",
       "      <td>250.120109</td>\n",
       "      <td>0.041527</td>\n",
       "    </tr>\n",
       "    <tr>\n",
       "      <th>min</th>\n",
       "      <td>0.000000</td>\n",
       "      <td>-5.640751e+01</td>\n",
       "      <td>-7.271573e+01</td>\n",
       "      <td>-4.832559e+01</td>\n",
       "      <td>-5.683171e+00</td>\n",
       "      <td>-1.137433e+02</td>\n",
       "      <td>-2.616051e+01</td>\n",
       "      <td>-4.355724e+01</td>\n",
       "      <td>-7.321672e+01</td>\n",
       "      <td>-1.343407e+01</td>\n",
       "      <td>-2.458826e+01</td>\n",
       "      <td>-4.797473e+00</td>\n",
       "      <td>-1.868371e+01</td>\n",
       "      <td>-5.791881e+00</td>\n",
       "      <td>-1.921433e+01</td>\n",
       "      <td>-4.498945e+00</td>\n",
       "      <td>-1.412985e+01</td>\n",
       "      <td>-2.516280e+01</td>\n",
       "      <td>-9.498746e+00</td>\n",
       "      <td>-7.213527e+00</td>\n",
       "      <td>-5.449772e+01</td>\n",
       "      <td>-3.483038e+01</td>\n",
       "      <td>-1.093314e+01</td>\n",
       "      <td>-4.480774e+01</td>\n",
       "      <td>-2.836627e+00</td>\n",
       "      <td>-1.029540e+01</td>\n",
       "      <td>-2.604551e+00</td>\n",
       "      <td>-2.256568e+01</td>\n",
       "      <td>-1.543008e+01</td>\n",
       "      <td>0.000000</td>\n",
       "      <td>0.000000</td>\n",
       "    </tr>\n",
       "    <tr>\n",
       "      <th>25%</th>\n",
       "      <td>54201.500000</td>\n",
       "      <td>-9.203734e-01</td>\n",
       "      <td>-5.985499e-01</td>\n",
       "      <td>-8.903648e-01</td>\n",
       "      <td>-8.486401e-01</td>\n",
       "      <td>-6.915971e-01</td>\n",
       "      <td>-7.682956e-01</td>\n",
       "      <td>-5.540759e-01</td>\n",
       "      <td>-2.086297e-01</td>\n",
       "      <td>-6.430976e-01</td>\n",
       "      <td>-5.354257e-01</td>\n",
       "      <td>-7.624942e-01</td>\n",
       "      <td>-4.055715e-01</td>\n",
       "      <td>-6.485393e-01</td>\n",
       "      <td>-4.255740e-01</td>\n",
       "      <td>-5.828843e-01</td>\n",
       "      <td>-4.680368e-01</td>\n",
       "      <td>-4.837483e-01</td>\n",
       "      <td>-4.988498e-01</td>\n",
       "      <td>-4.562989e-01</td>\n",
       "      <td>-2.117214e-01</td>\n",
       "      <td>-2.283949e-01</td>\n",
       "      <td>-5.423504e-01</td>\n",
       "      <td>-1.618463e-01</td>\n",
       "      <td>-3.545861e-01</td>\n",
       "      <td>-3.171451e-01</td>\n",
       "      <td>-3.269839e-01</td>\n",
       "      <td>-7.083953e-02</td>\n",
       "      <td>-5.295979e-02</td>\n",
       "      <td>5.600000</td>\n",
       "      <td>0.000000</td>\n",
       "    </tr>\n",
       "    <tr>\n",
       "      <th>50%</th>\n",
       "      <td>84692.000000</td>\n",
       "      <td>1.810880e-02</td>\n",
       "      <td>6.548556e-02</td>\n",
       "      <td>1.798463e-01</td>\n",
       "      <td>-1.984653e-02</td>\n",
       "      <td>-5.433583e-02</td>\n",
       "      <td>-2.741871e-01</td>\n",
       "      <td>4.010308e-02</td>\n",
       "      <td>2.235804e-02</td>\n",
       "      <td>-5.142873e-02</td>\n",
       "      <td>-9.291738e-02</td>\n",
       "      <td>-3.275735e-02</td>\n",
       "      <td>1.400326e-01</td>\n",
       "      <td>-1.356806e-02</td>\n",
       "      <td>5.060132e-02</td>\n",
       "      <td>4.807155e-02</td>\n",
       "      <td>6.641332e-02</td>\n",
       "      <td>-6.567575e-02</td>\n",
       "      <td>-3.636312e-03</td>\n",
       "      <td>3.734823e-03</td>\n",
       "      <td>-6.248109e-02</td>\n",
       "      <td>-2.945017e-02</td>\n",
       "      <td>6.781943e-03</td>\n",
       "      <td>-1.119293e-02</td>\n",
       "      <td>4.097606e-02</td>\n",
       "      <td>1.659350e-02</td>\n",
       "      <td>-5.213911e-02</td>\n",
       "      <td>1.342146e-03</td>\n",
       "      <td>1.124383e-02</td>\n",
       "      <td>22.000000</td>\n",
       "      <td>0.000000</td>\n",
       "    </tr>\n",
       "    <tr>\n",
       "      <th>75%</th>\n",
       "      <td>139320.500000</td>\n",
       "      <td>1.315642e+00</td>\n",
       "      <td>8.037239e-01</td>\n",
       "      <td>1.027196e+00</td>\n",
       "      <td>7.433413e-01</td>\n",
       "      <td>6.119264e-01</td>\n",
       "      <td>3.985649e-01</td>\n",
       "      <td>5.704361e-01</td>\n",
       "      <td>3.273459e-01</td>\n",
       "      <td>5.971390e-01</td>\n",
       "      <td>4.539234e-01</td>\n",
       "      <td>7.395934e-01</td>\n",
       "      <td>6.182380e-01</td>\n",
       "      <td>6.625050e-01</td>\n",
       "      <td>4.931498e-01</td>\n",
       "      <td>6.488208e-01</td>\n",
       "      <td>5.232963e-01</td>\n",
       "      <td>3.996750e-01</td>\n",
       "      <td>5.008067e-01</td>\n",
       "      <td>4.589494e-01</td>\n",
       "      <td>1.330408e-01</td>\n",
       "      <td>1.863772e-01</td>\n",
       "      <td>5.285536e-01</td>\n",
       "      <td>1.476421e-01</td>\n",
       "      <td>4.395266e-01</td>\n",
       "      <td>3.507156e-01</td>\n",
       "      <td>2.409522e-01</td>\n",
       "      <td>9.104512e-02</td>\n",
       "      <td>7.827995e-02</td>\n",
       "      <td>77.165000</td>\n",
       "      <td>0.000000</td>\n",
       "    </tr>\n",
       "    <tr>\n",
       "      <th>max</th>\n",
       "      <td>172792.000000</td>\n",
       "      <td>2.454930e+00</td>\n",
       "      <td>2.205773e+01</td>\n",
       "      <td>9.382558e+00</td>\n",
       "      <td>1.687534e+01</td>\n",
       "      <td>3.480167e+01</td>\n",
       "      <td>7.330163e+01</td>\n",
       "      <td>1.205895e+02</td>\n",
       "      <td>2.000721e+01</td>\n",
       "      <td>1.559499e+01</td>\n",
       "      <td>2.374514e+01</td>\n",
       "      <td>1.201891e+01</td>\n",
       "      <td>7.848392e+00</td>\n",
       "      <td>7.126883e+00</td>\n",
       "      <td>1.052677e+01</td>\n",
       "      <td>8.877742e+00</td>\n",
       "      <td>1.731511e+01</td>\n",
       "      <td>9.253526e+00</td>\n",
       "      <td>5.041069e+00</td>\n",
       "      <td>5.591971e+00</td>\n",
       "      <td>3.942090e+01</td>\n",
       "      <td>2.720284e+01</td>\n",
       "      <td>1.050309e+01</td>\n",
       "      <td>2.252841e+01</td>\n",
       "      <td>4.584549e+00</td>\n",
       "      <td>7.519589e+00</td>\n",
       "      <td>3.517346e+00</td>\n",
       "      <td>3.161220e+01</td>\n",
       "      <td>3.384781e+01</td>\n",
       "      <td>25691.160000</td>\n",
       "      <td>1.000000</td>\n",
       "    </tr>\n",
       "  </tbody>\n",
       "</table>\n",
       "<p>8 rows × 31 columns</p>\n",
       "</div>"
      ],
      "text/plain": [
       "                Time            V1            V2            V3            V4  \\\n",
       "count  284807.000000  2.848070e+05  2.848070e+05  2.848070e+05  2.848070e+05   \n",
       "mean    94813.859575  1.168375e-15  3.416908e-16 -1.379537e-15  2.074095e-15   \n",
       "std     47488.145955  1.958696e+00  1.651309e+00  1.516255e+00  1.415869e+00   \n",
       "min         0.000000 -5.640751e+01 -7.271573e+01 -4.832559e+01 -5.683171e+00   \n",
       "25%     54201.500000 -9.203734e-01 -5.985499e-01 -8.903648e-01 -8.486401e-01   \n",
       "50%     84692.000000  1.810880e-02  6.548556e-02  1.798463e-01 -1.984653e-02   \n",
       "75%    139320.500000  1.315642e+00  8.037239e-01  1.027196e+00  7.433413e-01   \n",
       "max    172792.000000  2.454930e+00  2.205773e+01  9.382558e+00  1.687534e+01   \n",
       "\n",
       "                 V5            V6            V7            V8            V9  \\\n",
       "count  2.848070e+05  2.848070e+05  2.848070e+05  2.848070e+05  2.848070e+05   \n",
       "mean   9.604066e-16  1.487313e-15 -5.556467e-16  1.213481e-16 -2.406331e-15   \n",
       "std    1.380247e+00  1.332271e+00  1.237094e+00  1.194353e+00  1.098632e+00   \n",
       "min   -1.137433e+02 -2.616051e+01 -4.355724e+01 -7.321672e+01 -1.343407e+01   \n",
       "25%   -6.915971e-01 -7.682956e-01 -5.540759e-01 -2.086297e-01 -6.430976e-01   \n",
       "50%   -5.433583e-02 -2.741871e-01  4.010308e-02  2.235804e-02 -5.142873e-02   \n",
       "75%    6.119264e-01  3.985649e-01  5.704361e-01  3.273459e-01  5.971390e-01   \n",
       "max    3.480167e+01  7.330163e+01  1.205895e+02  2.000721e+01  1.559499e+01   \n",
       "\n",
       "                V10           V11           V12           V13           V14  \\\n",
       "count  2.848070e+05  2.848070e+05  2.848070e+05  2.848070e+05  2.848070e+05   \n",
       "mean   2.239053e-15  1.673327e-15 -1.247012e-15  8.190001e-16  1.207294e-15   \n",
       "std    1.088850e+00  1.020713e+00  9.992014e-01  9.952742e-01  9.585956e-01   \n",
       "min   -2.458826e+01 -4.797473e+00 -1.868371e+01 -5.791881e+00 -1.921433e+01   \n",
       "25%   -5.354257e-01 -7.624942e-01 -4.055715e-01 -6.485393e-01 -4.255740e-01   \n",
       "50%   -9.291738e-02 -3.275735e-02  1.400326e-01 -1.356806e-02  5.060132e-02   \n",
       "75%    4.539234e-01  7.395934e-01  6.182380e-01  6.625050e-01  4.931498e-01   \n",
       "max    2.374514e+01  1.201891e+01  7.848392e+00  7.126883e+00  1.052677e+01   \n",
       "\n",
       "                V15           V16           V17           V18           V19  \\\n",
       "count  2.848070e+05  2.848070e+05  2.848070e+05  2.848070e+05  2.848070e+05   \n",
       "mean   4.887456e-15  1.437716e-15 -3.772171e-16  9.564149e-16  1.039917e-15   \n",
       "std    9.153160e-01  8.762529e-01  8.493371e-01  8.381762e-01  8.140405e-01   \n",
       "min   -4.498945e+00 -1.412985e+01 -2.516280e+01 -9.498746e+00 -7.213527e+00   \n",
       "25%   -5.828843e-01 -4.680368e-01 -4.837483e-01 -4.988498e-01 -4.562989e-01   \n",
       "50%    4.807155e-02  6.641332e-02 -6.567575e-02 -3.636312e-03  3.734823e-03   \n",
       "75%    6.488208e-01  5.232963e-01  3.996750e-01  5.008067e-01  4.589494e-01   \n",
       "max    8.877742e+00  1.731511e+01  9.253526e+00  5.041069e+00  5.591971e+00   \n",
       "\n",
       "                V20           V21           V22           V23           V24  \\\n",
       "count  2.848070e+05  2.848070e+05  2.848070e+05  2.848070e+05  2.848070e+05   \n",
       "mean   6.406204e-16  1.654067e-16 -3.568593e-16  2.578648e-16  4.473266e-15   \n",
       "std    7.709250e-01  7.345240e-01  7.257016e-01  6.244603e-01  6.056471e-01   \n",
       "min   -5.449772e+01 -3.483038e+01 -1.093314e+01 -4.480774e+01 -2.836627e+00   \n",
       "25%   -2.117214e-01 -2.283949e-01 -5.423504e-01 -1.618463e-01 -3.545861e-01   \n",
       "50%   -6.248109e-02 -2.945017e-02  6.781943e-03 -1.119293e-02  4.097606e-02   \n",
       "75%    1.330408e-01  1.863772e-01  5.285536e-01  1.476421e-01  4.395266e-01   \n",
       "max    3.942090e+01  2.720284e+01  1.050309e+01  2.252841e+01  4.584549e+00   \n",
       "\n",
       "                V25           V26           V27           V28         Amount  \\\n",
       "count  2.848070e+05  2.848070e+05  2.848070e+05  2.848070e+05  284807.000000   \n",
       "mean   5.340915e-16  1.683437e-15 -3.660091e-16 -1.227390e-16      88.349619   \n",
       "std    5.212781e-01  4.822270e-01  4.036325e-01  3.300833e-01     250.120109   \n",
       "min   -1.029540e+01 -2.604551e+00 -2.256568e+01 -1.543008e+01       0.000000   \n",
       "25%   -3.171451e-01 -3.269839e-01 -7.083953e-02 -5.295979e-02       5.600000   \n",
       "50%    1.659350e-02 -5.213911e-02  1.342146e-03  1.124383e-02      22.000000   \n",
       "75%    3.507156e-01  2.409522e-01  9.104512e-02  7.827995e-02      77.165000   \n",
       "max    7.519589e+00  3.517346e+00  3.161220e+01  3.384781e+01   25691.160000   \n",
       "\n",
       "               Class  \n",
       "count  284807.000000  \n",
       "mean        0.001727  \n",
       "std         0.041527  \n",
       "min         0.000000  \n",
       "25%         0.000000  \n",
       "50%         0.000000  \n",
       "75%         0.000000  \n",
       "max         1.000000  \n",
       "\n",
       "[8 rows x 31 columns]"
      ]
     },
     "execution_count": 47,
     "metadata": {},
     "output_type": "execute_result"
    }
   ],
   "source": [
    "df.describe(include='all')"
   ]
  },
  {
   "cell_type": "code",
   "execution_count": 48,
   "metadata": {
    "execution": {
     "iopub.execute_input": "2022-11-05T15:17:29.253483Z",
     "iopub.status.busy": "2022-11-05T15:17:29.252944Z",
     "iopub.status.idle": "2022-11-05T15:17:29.279561Z",
     "shell.execute_reply": "2022-11-05T15:17:29.279047Z",
     "shell.execute_reply.started": "2022-11-05T15:17:29.253437Z"
    },
    "tags": []
   },
   "outputs": [
    {
     "name": "stdout",
     "output_type": "stream",
     "text": [
      "<class 'pandas.core.frame.DataFrame'>\n",
      "RangeIndex: 284807 entries, 0 to 284806\n",
      "Data columns (total 31 columns):\n",
      " #   Column  Non-Null Count   Dtype  \n",
      "---  ------  --------------   -----  \n",
      " 0   Time    284807 non-null  float64\n",
      " 1   V1      284807 non-null  float64\n",
      " 2   V2      284807 non-null  float64\n",
      " 3   V3      284807 non-null  float64\n",
      " 4   V4      284807 non-null  float64\n",
      " 5   V5      284807 non-null  float64\n",
      " 6   V6      284807 non-null  float64\n",
      " 7   V7      284807 non-null  float64\n",
      " 8   V8      284807 non-null  float64\n",
      " 9   V9      284807 non-null  float64\n",
      " 10  V10     284807 non-null  float64\n",
      " 11  V11     284807 non-null  float64\n",
      " 12  V12     284807 non-null  float64\n",
      " 13  V13     284807 non-null  float64\n",
      " 14  V14     284807 non-null  float64\n",
      " 15  V15     284807 non-null  float64\n",
      " 16  V16     284807 non-null  float64\n",
      " 17  V17     284807 non-null  float64\n",
      " 18  V18     284807 non-null  float64\n",
      " 19  V19     284807 non-null  float64\n",
      " 20  V20     284807 non-null  float64\n",
      " 21  V21     284807 non-null  float64\n",
      " 22  V22     284807 non-null  float64\n",
      " 23  V23     284807 non-null  float64\n",
      " 24  V24     284807 non-null  float64\n",
      " 25  V25     284807 non-null  float64\n",
      " 26  V26     284807 non-null  float64\n",
      " 27  V27     284807 non-null  float64\n",
      " 28  V28     284807 non-null  float64\n",
      " 29  Amount  284807 non-null  float64\n",
      " 30  Class   284807 non-null  int64  \n",
      "dtypes: float64(30), int64(1)\n",
      "memory usage: 67.4 MB\n"
     ]
    }
   ],
   "source": [
    "df.info()"
   ]
  },
  {
   "cell_type": "markdown",
   "metadata": {},
   "source": [
    "# Classification"
   ]
  },
  {
   "cell_type": "markdown",
   "metadata": {},
   "source": [
    "## Data Split"
   ]
  },
  {
   "cell_type": "code",
   "execution_count": 49,
   "metadata": {
    "execution": {
     "iopub.execute_input": "2022-11-05T15:17:29.280501Z",
     "iopub.status.busy": "2022-11-05T15:17:29.280241Z",
     "iopub.status.idle": "2022-11-05T15:17:29.305067Z",
     "shell.execute_reply": "2022-11-05T15:17:29.304371Z",
     "shell.execute_reply.started": "2022-11-05T15:17:29.280477Z"
    },
    "tags": []
   },
   "outputs": [],
   "source": [
    "x = df.drop('Class', axis=1)\n",
    "y = df['Class']"
   ]
  },
  {
   "cell_type": "markdown",
   "metadata": {},
   "source": [
    "## Data Imbalance Adjustment"
   ]
  },
  {
   "cell_type": "markdown",
   "metadata": {},
   "source": [
    "### Oversampling"
   ]
  },
  {
   "cell_type": "code",
   "execution_count": 50,
   "metadata": {
    "execution": {
     "iopub.execute_input": "2022-11-05T15:17:29.306151Z",
     "iopub.status.busy": "2022-11-05T15:17:29.305873Z",
     "iopub.status.idle": "2022-11-05T15:17:29.761747Z",
     "shell.execute_reply": "2022-11-05T15:17:29.761161Z",
     "shell.execute_reply.started": "2022-11-05T15:17:29.306130Z"
    },
    "tags": []
   },
   "outputs": [],
   "source": [
    "# oversampling using SMOTE\n",
    "smote = SMOTE(random_state=0)\n",
    "x_smote, y_smote = smote.fit_resample(x, y)"
   ]
  },
  {
   "cell_type": "code",
   "execution_count": 51,
   "metadata": {
    "execution": {
     "iopub.execute_input": "2022-11-05T15:17:29.763615Z",
     "iopub.status.busy": "2022-11-05T15:17:29.763340Z",
     "iopub.status.idle": "2022-11-05T15:17:29.846750Z",
     "shell.execute_reply": "2022-11-05T15:17:29.846264Z",
     "shell.execute_reply.started": "2022-11-05T15:17:29.763595Z"
    }
   },
   "outputs": [
    {
     "name": "stdout",
     "output_type": "stream",
     "text": [
      "Counter({0: 284315, 1: 492})\n",
      "Counter({0: 284315, 1: 284315})\n"
     ]
    }
   ],
   "source": [
    "counter = Counter(y)\n",
    "print(counter)\n",
    "counter = Counter(y_smote)\n",
    "print(counter)"
   ]
  },
  {
   "cell_type": "code",
   "execution_count": 52,
   "metadata": {
    "execution": {
     "iopub.execute_input": "2022-11-05T15:17:29.847833Z",
     "iopub.status.busy": "2022-11-05T15:17:29.847401Z",
     "iopub.status.idle": "2022-11-05T15:17:29.851293Z",
     "shell.execute_reply": "2022-11-05T15:17:29.850784Z",
     "shell.execute_reply.started": "2022-11-05T15:17:29.847811Z"
    }
   },
   "outputs": [
    {
     "name": "stdout",
     "output_type": "stream",
     "text": [
      "(284807, 30)\n",
      "(568630, 30)\n"
     ]
    }
   ],
   "source": [
    "print(x.shape)\n",
    "print(x_smote.shape)"
   ]
  },
  {
   "cell_type": "markdown",
   "metadata": {},
   "source": [
    "### Undersampling"
   ]
  },
  {
   "cell_type": "code",
   "execution_count": 53,
   "metadata": {
    "execution": {
     "iopub.execute_input": "2022-11-05T15:17:29.852310Z",
     "iopub.status.busy": "2022-11-05T15:17:29.851962Z",
     "iopub.status.idle": "2022-11-05T15:17:29.909080Z",
     "shell.execute_reply": "2022-11-05T15:17:29.908586Z",
     "shell.execute_reply.started": "2022-11-05T15:17:29.852290Z"
    }
   },
   "outputs": [],
   "source": [
    "# undersampling using random undersampler\n",
    "rus = RandomUnderSampler(random_state=0)\n",
    "x_rus, y_rus = rus.fit_resample(x, y)"
   ]
  },
  {
   "cell_type": "code",
   "execution_count": 54,
   "metadata": {
    "execution": {
     "iopub.execute_input": "2022-11-05T15:17:29.910137Z",
     "iopub.status.busy": "2022-11-05T15:17:29.909764Z",
     "iopub.status.idle": "2022-11-05T15:17:29.940579Z",
     "shell.execute_reply": "2022-11-05T15:17:29.939953Z",
     "shell.execute_reply.started": "2022-11-05T15:17:29.910118Z"
    }
   },
   "outputs": [
    {
     "name": "stdout",
     "output_type": "stream",
     "text": [
      "Counter({0: 284315, 1: 492})\n",
      "Counter({0: 492, 1: 492})\n"
     ]
    }
   ],
   "source": [
    "counter = Counter(y)\n",
    "print(counter)\n",
    "counter = Counter(y_rus)\n",
    "print(counter)"
   ]
  },
  {
   "cell_type": "code",
   "execution_count": 55,
   "metadata": {
    "execution": {
     "iopub.execute_input": "2022-11-05T15:17:29.941666Z",
     "iopub.status.busy": "2022-11-05T15:17:29.941293Z",
     "iopub.status.idle": "2022-11-05T15:17:29.945022Z",
     "shell.execute_reply": "2022-11-05T15:17:29.944408Z",
     "shell.execute_reply.started": "2022-11-05T15:17:29.941645Z"
    }
   },
   "outputs": [
    {
     "name": "stdout",
     "output_type": "stream",
     "text": [
      "(284807, 30)\n",
      "(984, 30)\n"
     ]
    }
   ],
   "source": [
    "print(x.shape)\n",
    "print(x_rus.shape)"
   ]
  },
  {
   "cell_type": "code",
   "execution_count": 56,
   "metadata": {
    "execution": {
     "iopub.execute_input": "2022-11-05T15:17:29.945901Z",
     "iopub.status.busy": "2022-11-05T15:17:29.945704Z",
     "iopub.status.idle": "2022-11-05T15:17:30.121015Z",
     "shell.execute_reply": "2022-11-05T15:17:30.120460Z",
     "shell.execute_reply.started": "2022-11-05T15:17:29.945877Z"
    }
   },
   "outputs": [],
   "source": [
    "# create a new dataframe for SMOTE\n",
    "df_smote = x_smote.copy(deep=True)\n",
    "df_smote['Class'] = y_smote\n",
    "\n",
    "# drop indices from the SMOTE dataset randomly\n",
    "# np.random.seed(10)\n",
    "# remove_n = int(len(df_smote) / 2)\n",
    "# drop_indices = np.random.choice(df_smote.index, remove_n, replace=False)\n",
    "# df_smote.drop(drop_indices, inplace=True)\n",
    "\n",
    "# replace x_smote and y_smote\n",
    "# x_smote = df_smote.drop('Class', axis=1)\n",
    "# y_smote = df_smote['Class']\n",
    "\n",
    "# create a new dataframe for RUS\n",
    "df_rus = x_rus.copy(deep=True)\n",
    "df_rus['Class'] = y_rus"
   ]
  },
  {
   "cell_type": "code",
   "execution_count": 57,
   "metadata": {
    "execution": {
     "iopub.execute_input": "2022-11-05T15:17:30.122051Z",
     "iopub.status.busy": "2022-11-05T15:17:30.121782Z",
     "iopub.status.idle": "2022-11-05T15:17:30.454750Z",
     "shell.execute_reply": "2022-11-05T15:17:30.454215Z",
     "shell.execute_reply.started": "2022-11-05T15:17:30.122031Z"
    }
   },
   "outputs": [],
   "source": [
    "ts = 0.3\n",
    "rs = 1\n",
    "\n",
    "x_train_base, x_test_base, y_train_base, y_test_base = train_test_split(\n",
    "    x, y, test_size=ts, random_state=rs)\n",
    "\n",
    "x_train_smote, x_test_smote, y_train_smote, y_test_smote = train_test_split(\n",
    "    x_smote, y_smote, test_size=ts, random_state=rs)\n",
    "\n",
    "x_train_rus, x_test_rus, y_train_rus, y_test_rus = train_test_split(\n",
    "    x_rus, y_rus, test_size=ts, random_state=rs)"
   ]
  },
  {
   "cell_type": "code",
   "execution_count": 58,
   "metadata": {
    "execution": {
     "iopub.execute_input": "2022-11-05T15:17:30.455717Z",
     "iopub.status.busy": "2022-11-05T15:17:30.455503Z",
     "iopub.status.idle": "2022-11-05T15:17:30.460008Z",
     "shell.execute_reply": "2022-11-05T15:17:30.459378Z",
     "shell.execute_reply.started": "2022-11-05T15:17:30.455697Z"
    }
   },
   "outputs": [
    {
     "name": "stdout",
     "output_type": "stream",
     "text": [
      "284807\n",
      "568630\n",
      "984\n",
      "568630\n",
      "398041\n",
      "568630\n"
     ]
    }
   ],
   "source": [
    "print(len(df))\n",
    "print(len(df_smote))\n",
    "print(len(df_rus))\n",
    "print(len(x_smote))\n",
    "print(len(x_train_smote))\n",
    "print(len(y_smote))"
   ]
  },
  {
   "cell_type": "code",
   "execution_count": 59,
   "metadata": {
    "execution": {
     "iopub.execute_input": "2022-11-05T15:17:30.461225Z",
     "iopub.status.busy": "2022-11-05T15:17:30.461026Z",
     "iopub.status.idle": "2022-11-05T15:17:30.484843Z",
     "shell.execute_reply": "2022-11-05T15:17:30.484348Z",
     "shell.execute_reply.started": "2022-11-05T15:17:30.461207Z"
    },
    "tags": []
   },
   "outputs": [],
   "source": [
    "# build the classifier class\n",
    "import ray\n",
    "\n",
    "# ray.init(ignore_reinit_error=True)\n",
    "\n",
    "\n",
    "# @ray.remote\n",
    "# @ignore_warnings(category=ConvergenceWarning)\n",
    "class ClassifierModels():\n",
    "    def __init__(self, df, x, y, x_test, y_test):\n",
    "        '''Init function. Make sure to pass x_train and y_train here.'''\n",
    "\n",
    "        self.df = df\n",
    "        self.x = x\n",
    "        self.y = y\n",
    "        self.x_test = x_test\n",
    "        self.y_test = y_test\n",
    "\n",
    "        print('#' * 60)\n",
    "        print(f'{\" Loading dataframe \":#^60}')\n",
    "        print('#' * 60)\n",
    "        print(f'{\" Getting best parameters to create our models \":#^60}')\n",
    "        print('#' * 60)\n",
    "\n",
    "        # hold abbreviations and full names\n",
    "        self.model_abr = {'lr': 'Logistic Regression', 'knn': 'KNeighbors Classifier', 'dtc': 'Decision Tree Classifier',\n",
    "                          'rfc': 'Random Forest Classifier', 'ensemble': 'Voting Classifier', 'xgb': 'XGB Classifier', 'nb': 'Naive Bayes'}\n",
    "        # self.model_abr = {'lr': 'Logistic Regression', 'svm': 'Support Vector Machine', 'dtc': 'Decision Tree Classifier',\n",
    "        #                   'rfc': 'Random Forest Classifier', 'ensemble': 'Voting Classifier', 'xgb': 'XGB Classifier', 'nb': 'Naive Bayes'}\n",
    "\n",
    "        # hold the actual models\n",
    "        self.models = {}\n",
    "        self.model_predicts = {}\n",
    "        self.model_predicts_proba = {}\n",
    "\n",
    "        # loop over the models dict to get each model's best params\n",
    "        for model in self.model_abr:\n",
    "            print('#' * 60)\n",
    "            print(f'{\" \" + self.model_abr[model] + \" \":#^60}')\n",
    "            print('#' * 60)\n",
    "            # params = self.get_best_params(model)\n",
    "\n",
    "            # print('+++++ Best parameters for the {} model: {}'.format(\n",
    "            #     self.model_abr[model], params))\n",
    "            print('+++++ Creating and fitting the {} model using its default parameters...'.format(\n",
    "                self.model_abr[model]))\n",
    "\n",
    "            if model == 'lr':\n",
    "                # m = LogisticRegression(\n",
    "                #     solver=params['solver'], penalty=params['penalty'], C=params['C'])\n",
    "                m = LogisticRegression()\n",
    "                m.fit(self.x, self.y)\n",
    "\n",
    "                self.models[model] = m\n",
    "\n",
    "            elif model == 'knn':\n",
    "                # m = KNeighborsClassifier(\n",
    "                #     n_neighbors=params['n_neighbors'], weights=params['weights'], metric=params['metric'])\n",
    "                m = KNeighborsClassifier()\n",
    "                m.fit(self.x, self.y)\n",
    "\n",
    "                self.models[model] = m\n",
    "\n",
    "            elif model == 'svm':\n",
    "                # m = SVC(kernel=params['kernel'],\n",
    "                #         C=params['C'], gamma=params['gamma'], probability=True)\n",
    "                m = SVC(probability=True)\n",
    "                m.fit(self.x, self.y)\n",
    "\n",
    "                self.models[model] = m\n",
    "\n",
    "            elif model == 'dtc':\n",
    "                # m = DecisionTreeClassifier(\n",
    "                #     criterion=params['criterion'], splitter=params['splitter'], max_features=params['max_features'])\n",
    "                m = DecisionTreeClassifier()\n",
    "                m.fit(self.x, self.y)\n",
    "\n",
    "                self.models[model] = m\n",
    "\n",
    "            elif model == 'rfc':\n",
    "                # m = RandomForestClassifier(\n",
    "                #     n_estimators=params['n_estimators'], max_features=params['max_features'])\n",
    "                m = RandomForestClassifier()\n",
    "                m.fit(self.x, self.y)\n",
    "\n",
    "                self.models[model] = m\n",
    "\n",
    "            elif model == 'ensemble':\n",
    "                # m = VotingClassifier(estimators=[('Logistic Regression', self.models['lr']), ('Decission Tree Classifier', self.models['dtc']), (\n",
    "                #     'Random Forrest Classifier', self.models['rfc']), ('KNN', self.models['knn']), ('SVM', self.models['svm'])], weights=[10, 10, 10, 10, 10], voting='soft')\n",
    "                m = VotingClassifier(estimators=[('Logistic Regression', self.models['lr']), ('Decission Tree Classifier', self.models['dtc']), (\n",
    "                    'Random Forrest Classifier', self.models['rfc']), ('KNN', self.models['knn'])], weights=[10, 10, 10, 10], voting='soft')\n",
    "                m.fit(self.x, self.y)\n",
    "\n",
    "                self.models[model] = m\n",
    "\n",
    "            elif model == 'xgb':\n",
    "                m = XGBClassifier()\n",
    "                m.fit(self.x, self.y)\n",
    "\n",
    "                self.models[model] = m\n",
    "\n",
    "            elif model == 'nb':\n",
    "                m = GaussianNB()\n",
    "                m.fit(self.x, self.y)\n",
    "\n",
    "                self.models[model] = m\n",
    "\n",
    "        print('#' * 60)\n",
    "        print(f'{\" All models created and fitted successfully! \":#^60}')\n",
    "        print('#' * 60)\n",
    "\n",
    "        # loop over the models and get the y_pred\n",
    "        for model in self.model_abr:\n",
    "            y_pred = self.models[model].predict(self.x_test)\n",
    "\n",
    "            self.model_predicts[model] = y_pred\n",
    "\n",
    "        # loop over the models and get the y_pred_proba\n",
    "        for model in self.model_abr:\n",
    "            y_pred_proba = self.models[model].predict_proba(self.x_test)\n",
    "\n",
    "            self.model_predicts_proba[model] = y_pred_proba\n",
    "            \n",
    "        print('#' * 60)\n",
    "        print(f'{\" All model predictions generated successfully! \":#^60}')\n",
    "        print('#' * 60)\n",
    "\n",
    "    @ignore_warnings(category=ConvergenceWarning)\n",
    "    def get_best_params(self, model):\n",
    "        '''This method returns the best params for hypertuning each model'''\n",
    "\n",
    "        if model == 'lr':\n",
    "            # model\n",
    "            lr_model = LogisticRegression()\n",
    "\n",
    "            # params\n",
    "            solver = ['newton-cg', 'lbfgs', 'liblinear']\n",
    "            penalty = ['l2']\n",
    "            C = [100, 10, 1.0, 0.1, 0.01]\n",
    "            lr_params = dict(solver=solver, penalty=penalty, C=C)\n",
    "\n",
    "            # cross validation\n",
    "            cv = RepeatedStratifiedKFold(\n",
    "                n_splits=2, n_repeats=1, random_state=1)\n",
    "            lr_gsearch = GridSearchCV(estimator=lr_model, param_grid=lr_params,\n",
    "                                      cv=cv, scoring='accuracy', error_score=0, n_jobs=-1)\n",
    "            lr_gresult = lr_gsearch.fit(self.x, self.y)\n",
    "\n",
    "            return lr_gresult.best_params_\n",
    "\n",
    "        elif model == 'knn':\n",
    "            # model\n",
    "            knn_model = KNeighborsClassifier()\n",
    "\n",
    "            # params\n",
    "            n_neighbors = range(1, 31, 2)\n",
    "            weights = ['uniform', 'distance']\n",
    "            metric = ['euclidean', 'manhattan', 'minkowski']\n",
    "            knn_params = dict(n_neighbors=n_neighbors,\n",
    "                              weights=weights, metric=metric)\n",
    "\n",
    "            # cross validation\n",
    "            cv = RepeatedStratifiedKFold(\n",
    "                n_splits=2, n_repeats=1, random_state=1)\n",
    "            knn_gsearch = GridSearchCV(estimator=knn_model, param_grid=knn_params,\n",
    "                                       cv=cv, scoring='accuracy', error_score=0, n_jobs=-1)\n",
    "            knn_gresult = knn_gsearch.fit(self.x, self.y)\n",
    "\n",
    "            return knn_gresult.best_params_\n",
    "\n",
    "        elif model == 'svm':\n",
    "            # model\n",
    "            svm_model = SVC()\n",
    "\n",
    "            # params\n",
    "            kernel = ['poly', 'rbf', 'sigmoid']\n",
    "            C = [50, 10, 1.0, 0.1, 0.01]\n",
    "            gamma = ['scale']\n",
    "            svm_params = dict(kernel=kernel, C=C, gamma=gamma)\n",
    "\n",
    "            # cross validation\n",
    "            cv = RepeatedStratifiedKFold(\n",
    "                n_splits=2, n_repeats=1, random_state=1)\n",
    "            svm_gsearch = GridSearchCV(estimator=svm_model, param_grid=svm_params,\n",
    "                                       cv=cv, scoring='accuracy', error_score=0, n_jobs=-1)\n",
    "            svm_gresult = svm_gsearch.fit(self.x, self.y)\n",
    "\n",
    "            return svm_gresult.best_params_\n",
    "\n",
    "        elif model == 'dtc':\n",
    "            # model\n",
    "            dtc_model = DecisionTreeClassifier()\n",
    "\n",
    "            # params\n",
    "            criterion = ['gini', 'entropy', 'log_loss']\n",
    "            splitter = ['best', 'random']\n",
    "            max_features = ['sqrt', 'log2', None]\n",
    "            dtc_params = dict(criterion=criterion,\n",
    "                              splitter=splitter, max_features=max_features)\n",
    "\n",
    "            # cross validation\n",
    "            cv = RepeatedStratifiedKFold(\n",
    "                n_splits=2, n_repeats=1, random_state=1)\n",
    "            dtc_gsearch = GridSearchCV(estimator=dtc_model, param_grid=dtc_params,\n",
    "                                       cv=cv, scoring='accuracy', error_score=0, n_jobs=-1)\n",
    "            dtc_gresult = dtc_gsearch.fit(self.x, self.y)\n",
    "\n",
    "            return dtc_gresult.best_params_\n",
    "\n",
    "        elif model == 'rfc':\n",
    "            # model\n",
    "            rfc_model = RandomForestClassifier()\n",
    "\n",
    "            # params\n",
    "            n_estimators = [10, 100, 1000]\n",
    "            max_features = ['sqrt', 'log2']\n",
    "            rfc_params = dict(n_estimators=n_estimators,\n",
    "                              max_features=max_features)\n",
    "\n",
    "            # cross validation\n",
    "            cv = RepeatedStratifiedKFold(\n",
    "                n_splits=2, n_repeats=1, random_state=1)\n",
    "            rfc_gsearch = GridSearchCV(estimator=rfc_model, param_grid=rfc_params,\n",
    "                                       cv=cv, scoring='accuracy', error_score=0, n_jobs=-1)\n",
    "            rfc_gresult = rfc_gsearch.fit(self.x, self.y)\n",
    "\n",
    "            return rfc_gresult.best_params_\n",
    "\n",
    "        elif model == 'ensemble':\n",
    "            return\n",
    "\n",
    "        elif model == 'xgb':\n",
    "            return\n",
    "\n",
    "        elif model == 'nb':\n",
    "            return\n",
    "\n",
    "        else:\n",
    "            raise NameError(\n",
    "                'No grid search model available for {}.'.format(model))\n",
    "\n",
    "    def show_performance(self):\n",
    "        '''This method prints the accuracy, precision, recall, and f1 score for each model.'''\n",
    "\n",
    "        headers = ['Accuracy', 'Precision', 'Recall', 'F1 Score']\n",
    "        tbldata = []\n",
    "        for model in self.models:\n",
    "            accuracy = metrics.accuracy_score(\n",
    "                self.y_test, self.model_predicts[model])\n",
    "            f1score = metrics.f1_score(\n",
    "                self.y_test, self.model_predicts[model], average='weighted', zero_division=0)\n",
    "            precision = metrics.precision_score(\n",
    "                self.y_test, self.model_predicts[model], average='weighted', zero_division=0)\n",
    "            recall = metrics.recall_score(\n",
    "                self.y_test, self.model_predicts[model], average='weighted', zero_division=0)\n",
    "\n",
    "            tbldata.append([self.model_abr[model], accuracy,\n",
    "                           precision, recall, f1score])\n",
    "\n",
    "        return tabulate(tbldata, headers=headers, tablefmt=\"pretty\")"
   ]
  },
  {
   "cell_type": "code",
   "execution_count": 60,
   "metadata": {
    "execution": {
     "iopub.execute_input": "2022-11-05T15:17:30.485666Z",
     "iopub.status.busy": "2022-11-05T15:17:30.485444Z",
     "iopub.status.idle": "2022-11-05T15:17:30.490118Z",
     "shell.execute_reply": "2022-11-05T15:17:30.489667Z",
     "shell.execute_reply.started": "2022-11-05T15:17:30.485647Z"
    },
    "tags": []
   },
   "outputs": [],
   "source": [
    "# cm_base_ = ClassifierModels.remote(df, x_train_base, y_train_base, x_test_base, y_test_base)\n",
    "# cm_smote_ = ClassifierModels.remote(df_smote, x_train_smote, y_train_smote, x_test_smote, y_test_smote)\n",
    "# cm_rus_ = ClassifierModels.remote(df_rus, x_train_rus, y_train_rus, x_test_rus, y_test_rus)\n",
    "\n",
    "# cm_base, cm_smote, cm_rus = ray.get([cm_base_, cm_smote_, cm_rus_])"
   ]
  },
  {
   "cell_type": "code",
   "execution_count": 61,
   "metadata": {
    "execution": {
     "iopub.execute_input": "2022-11-05T15:17:30.491091Z",
     "iopub.status.busy": "2022-11-05T15:17:30.490738Z",
     "iopub.status.idle": "2022-11-05T15:17:31.272689Z",
     "shell.execute_reply": "2022-11-05T15:17:31.272137Z",
     "shell.execute_reply.started": "2022-11-05T15:17:30.491072Z"
    },
    "tags": []
   },
   "outputs": [
    {
     "name": "stdout",
     "output_type": "stream",
     "text": [
      "############################################################\n",
      "#################### Loading dataframe #####################\n",
      "############################################################\n",
      "####### Getting best parameters to create our models #######\n",
      "############################################################\n",
      "############################################################\n",
      "################### Logistic Regression ####################\n",
      "############################################################\n",
      "+++++ Creating and fitting the Logistic Regression model using its default parameters...\n",
      "############################################################\n",
      "################## KNeighbors Classifier ###################\n",
      "############################################################\n",
      "+++++ Creating and fitting the KNeighbors Classifier model using its default parameters...\n",
      "############################################################\n",
      "################# Decision Tree Classifier #################\n",
      "############################################################\n",
      "+++++ Creating and fitting the Decision Tree Classifier model using its default parameters...\n",
      "############################################################\n",
      "################# Random Forest Classifier #################\n",
      "############################################################\n",
      "+++++ Creating and fitting the Random Forest Classifier model using its default parameters...\n"
     ]
    },
    {
     "name": "stderr",
     "output_type": "stream",
     "text": [
      "/srv/conda/envs/saturn/lib/python3.9/site-packages/sklearn/linear_model/_logistic.py:444: ConvergenceWarning: lbfgs failed to converge (status=1):\n",
      "STOP: TOTAL NO. of ITERATIONS REACHED LIMIT.\n",
      "\n",
      "Increase the number of iterations (max_iter) or scale the data as shown in:\n",
      "    https://scikit-learn.org/stable/modules/preprocessing.html\n",
      "Please also refer to the documentation for alternative solver options:\n",
      "    https://scikit-learn.org/stable/modules/linear_model.html#logistic-regression\n",
      "  n_iter_i = _check_optimize_result(\n"
     ]
    },
    {
     "name": "stdout",
     "output_type": "stream",
     "text": [
      "############################################################\n",
      "#################### Voting Classifier #####################\n",
      "############################################################\n",
      "+++++ Creating and fitting the Voting Classifier model using its default parameters...\n"
     ]
    },
    {
     "name": "stderr",
     "output_type": "stream",
     "text": [
      "/srv/conda/envs/saturn/lib/python3.9/site-packages/sklearn/linear_model/_logistic.py:444: ConvergenceWarning: lbfgs failed to converge (status=1):\n",
      "STOP: TOTAL NO. of ITERATIONS REACHED LIMIT.\n",
      "\n",
      "Increase the number of iterations (max_iter) or scale the data as shown in:\n",
      "    https://scikit-learn.org/stable/modules/preprocessing.html\n",
      "Please also refer to the documentation for alternative solver options:\n",
      "    https://scikit-learn.org/stable/modules/linear_model.html#logistic-regression\n",
      "  n_iter_i = _check_optimize_result(\n"
     ]
    },
    {
     "name": "stdout",
     "output_type": "stream",
     "text": [
      "############################################################\n",
      "###################### XGB Classifier ######################\n",
      "############################################################\n",
      "+++++ Creating and fitting the XGB Classifier model using its default parameters...\n",
      "[15:17:31] WARNING: /home/conda/feedstock_root/build_artifacts/xgboost-split_1645117766796/work/src/learner.cc:1115: Starting in XGBoost 1.3.0, the default evaluation metric used with the objective 'binary:logistic' was changed from 'error' to 'logloss'. Explicitly set eval_metric if you'd like to restore the old behavior.\n",
      "############################################################\n",
      "####################### Naive Bayes ########################\n",
      "############################################################\n",
      "+++++ Creating and fitting the Naive Bayes model using its default parameters...\n",
      "############################################################\n",
      "####### All models created and fitted successfully! ########\n",
      "############################################################\n"
     ]
    },
    {
     "name": "stderr",
     "output_type": "stream",
     "text": [
      "/srv/conda/envs/saturn/lib/python3.9/site-packages/xgboost/sklearn.py:1224: UserWarning: The use of label encoder in XGBClassifier is deprecated and will be removed in a future release. To remove this warning, do the following: 1) Pass option use_label_encoder=False when constructing XGBClassifier object; and 2) Encode your labels (y) as integers starting with 0, i.e. 0, 1, 2, ..., [num_class - 1].\n",
      "  warnings.warn(label_encoder_deprecation_msg, UserWarning)\n",
      "/srv/conda/envs/saturn/lib/python3.9/site-packages/xgboost/data.py:262: FutureWarning: pandas.Int64Index is deprecated and will be removed from pandas in a future version. Use pandas.Index with the appropriate dtype instead.\n",
      "  elif isinstance(data.columns, (pd.Int64Index, pd.RangeIndex)):\n",
      "/srv/conda/envs/saturn/lib/python3.9/site-packages/xgboost/data.py:262: FutureWarning: pandas.Int64Index is deprecated and will be removed from pandas in a future version. Use pandas.Index with the appropriate dtype instead.\n",
      "  elif isinstance(data.columns, (pd.Int64Index, pd.RangeIndex)):\n"
     ]
    },
    {
     "name": "stdout",
     "output_type": "stream",
     "text": [
      "############################################################\n",
      "###### All model predictions generated successfully! #######\n",
      "############################################################\n"
     ]
    },
    {
     "name": "stderr",
     "output_type": "stream",
     "text": [
      "/srv/conda/envs/saturn/lib/python3.9/site-packages/xgboost/data.py:262: FutureWarning: pandas.Int64Index is deprecated and will be removed from pandas in a future version. Use pandas.Index with the appropriate dtype instead.\n",
      "  elif isinstance(data.columns, (pd.Int64Index, pd.RangeIndex)):\n"
     ]
    }
   ],
   "source": [
    "# create a ClassifierModels object for the RUS dataset\n",
    "cm_rus = ClassifierModels(\n",
    "    df_rus, x_train_rus, y_train_rus, x_test_rus, y_test_rus)"
   ]
  },
  {
   "cell_type": "code",
   "execution_count": 62,
   "metadata": {
    "execution": {
     "iopub.execute_input": "2022-11-05T15:17:31.273941Z",
     "iopub.status.busy": "2022-11-05T15:17:31.273550Z",
     "iopub.status.idle": "2022-11-05T15:34:02.570229Z",
     "shell.execute_reply": "2022-11-05T15:34:02.569522Z",
     "shell.execute_reply.started": "2022-11-05T15:17:31.273913Z"
    },
    "tags": []
   },
   "outputs": [
    {
     "name": "stdout",
     "output_type": "stream",
     "text": [
      "############################################################\n",
      "#################### Loading dataframe #####################\n",
      "############################################################\n",
      "####### Getting best parameters to create our models #######\n",
      "############################################################\n",
      "############################################################\n",
      "################### Logistic Regression ####################\n",
      "############################################################\n",
      "+++++ Creating and fitting the Logistic Regression model using its default parameters...\n",
      "############################################################\n",
      "################## KNeighbors Classifier ###################\n",
      "############################################################\n",
      "+++++ Creating and fitting the KNeighbors Classifier model using its default parameters...\n",
      "############################################################\n",
      "################# Decision Tree Classifier #################\n",
      "############################################################\n",
      "+++++ Creating and fitting the Decision Tree Classifier model using its default parameters...\n",
      "############################################################\n",
      "################# Random Forest Classifier #################\n",
      "############################################################\n",
      "+++++ Creating and fitting the Random Forest Classifier model using its default parameters...\n",
      "############################################################\n",
      "#################### Voting Classifier #####################\n",
      "############################################################\n",
      "+++++ Creating and fitting the Voting Classifier model using its default parameters...\n",
      "############################################################\n",
      "###################### XGB Classifier ######################\n",
      "############################################################\n",
      "+++++ Creating and fitting the XGB Classifier model using its default parameters...\n"
     ]
    },
    {
     "name": "stderr",
     "output_type": "stream",
     "text": [
      "/srv/conda/envs/saturn/lib/python3.9/site-packages/xgboost/sklearn.py:1224: UserWarning: The use of label encoder in XGBClassifier is deprecated and will be removed in a future release. To remove this warning, do the following: 1) Pass option use_label_encoder=False when constructing XGBClassifier object; and 2) Encode your labels (y) as integers starting with 0, i.e. 0, 1, 2, ..., [num_class - 1].\n",
      "  warnings.warn(label_encoder_deprecation_msg, UserWarning)\n",
      "/srv/conda/envs/saturn/lib/python3.9/site-packages/xgboost/data.py:262: FutureWarning: pandas.Int64Index is deprecated and will be removed from pandas in a future version. Use pandas.Index with the appropriate dtype instead.\n",
      "  elif isinstance(data.columns, (pd.Int64Index, pd.RangeIndex)):\n"
     ]
    },
    {
     "name": "stdout",
     "output_type": "stream",
     "text": [
      "[15:28:48] WARNING: /home/conda/feedstock_root/build_artifacts/xgboost-split_1645117766796/work/src/learner.cc:1115: Starting in XGBoost 1.3.0, the default evaluation metric used with the objective 'binary:logistic' was changed from 'error' to 'logloss'. Explicitly set eval_metric if you'd like to restore the old behavior.\n",
      "############################################################\n",
      "####################### Naive Bayes ########################\n",
      "############################################################\n",
      "+++++ Creating and fitting the Naive Bayes model using its default parameters...\n",
      "############################################################\n",
      "####### All models created and fitted successfully! ########\n",
      "############################################################\n"
     ]
    },
    {
     "name": "stderr",
     "output_type": "stream",
     "text": [
      "/srv/conda/envs/saturn/lib/python3.9/site-packages/xgboost/data.py:262: FutureWarning: pandas.Int64Index is deprecated and will be removed from pandas in a future version. Use pandas.Index with the appropriate dtype instead.\n",
      "  elif isinstance(data.columns, (pd.Int64Index, pd.RangeIndex)):\n"
     ]
    },
    {
     "name": "stdout",
     "output_type": "stream",
     "text": [
      "############################################################\n",
      "###### All model predictions generated successfully! #######\n",
      "############################################################\n"
     ]
    },
    {
     "name": "stderr",
     "output_type": "stream",
     "text": [
      "/srv/conda/envs/saturn/lib/python3.9/site-packages/xgboost/data.py:262: FutureWarning: pandas.Int64Index is deprecated and will be removed from pandas in a future version. Use pandas.Index with the appropriate dtype instead.\n",
      "  elif isinstance(data.columns, (pd.Int64Index, pd.RangeIndex)):\n"
     ]
    }
   ],
   "source": [
    "# create a ClassifierModels object for the SMOTE dataset\n",
    "cm_smote = ClassifierModels(\n",
    "    df_smote, x_train_smote, y_train_smote, x_test_smote, y_test_smote)\n"
   ]
  },
  {
   "cell_type": "code",
   "execution_count": 63,
   "metadata": {
    "execution": {
     "iopub.execute_input": "2022-11-05T15:34:02.571967Z",
     "iopub.status.busy": "2022-11-05T15:34:02.571206Z",
     "iopub.status.idle": "2022-11-05T15:41:08.327188Z",
     "shell.execute_reply": "2022-11-05T15:41:08.326521Z",
     "shell.execute_reply.started": "2022-11-05T15:34:02.571937Z"
    },
    "tags": []
   },
   "outputs": [
    {
     "name": "stdout",
     "output_type": "stream",
     "text": [
      "############################################################\n",
      "#################### Loading dataframe #####################\n",
      "############################################################\n",
      "####### Getting best parameters to create our models #######\n",
      "############################################################\n",
      "############################################################\n",
      "################### Logistic Regression ####################\n",
      "############################################################\n",
      "+++++ Creating and fitting the Logistic Regression model using its default parameters...\n"
     ]
    },
    {
     "name": "stderr",
     "output_type": "stream",
     "text": [
      "/srv/conda/envs/saturn/lib/python3.9/site-packages/sklearn/linear_model/_logistic.py:444: ConvergenceWarning: lbfgs failed to converge (status=1):\n",
      "STOP: TOTAL NO. of ITERATIONS REACHED LIMIT.\n",
      "\n",
      "Increase the number of iterations (max_iter) or scale the data as shown in:\n",
      "    https://scikit-learn.org/stable/modules/preprocessing.html\n",
      "Please also refer to the documentation for alternative solver options:\n",
      "    https://scikit-learn.org/stable/modules/linear_model.html#logistic-regression\n",
      "  n_iter_i = _check_optimize_result(\n"
     ]
    },
    {
     "name": "stdout",
     "output_type": "stream",
     "text": [
      "############################################################\n",
      "################## KNeighbors Classifier ###################\n",
      "############################################################\n",
      "+++++ Creating and fitting the KNeighbors Classifier model using its default parameters...\n",
      "############################################################\n",
      "################# Decision Tree Classifier #################\n",
      "############################################################\n",
      "+++++ Creating and fitting the Decision Tree Classifier model using its default parameters...\n",
      "############################################################\n",
      "################# Random Forest Classifier #################\n",
      "############################################################\n",
      "+++++ Creating and fitting the Random Forest Classifier model using its default parameters...\n",
      "############################################################\n",
      "#################### Voting Classifier #####################\n",
      "############################################################\n",
      "+++++ Creating and fitting the Voting Classifier model using its default parameters...\n"
     ]
    },
    {
     "name": "stderr",
     "output_type": "stream",
     "text": [
      "/srv/conda/envs/saturn/lib/python3.9/site-packages/sklearn/linear_model/_logistic.py:444: ConvergenceWarning: lbfgs failed to converge (status=1):\n",
      "STOP: TOTAL NO. of ITERATIONS REACHED LIMIT.\n",
      "\n",
      "Increase the number of iterations (max_iter) or scale the data as shown in:\n",
      "    https://scikit-learn.org/stable/modules/preprocessing.html\n",
      "Please also refer to the documentation for alternative solver options:\n",
      "    https://scikit-learn.org/stable/modules/linear_model.html#logistic-regression\n",
      "  n_iter_i = _check_optimize_result(\n"
     ]
    },
    {
     "name": "stdout",
     "output_type": "stream",
     "text": [
      "############################################################\n",
      "###################### XGB Classifier ######################\n",
      "############################################################\n",
      "+++++ Creating and fitting the XGB Classifier model using its default parameters...\n"
     ]
    },
    {
     "name": "stderr",
     "output_type": "stream",
     "text": [
      "/srv/conda/envs/saturn/lib/python3.9/site-packages/xgboost/sklearn.py:1224: UserWarning: The use of label encoder in XGBClassifier is deprecated and will be removed in a future release. To remove this warning, do the following: 1) Pass option use_label_encoder=False when constructing XGBClassifier object; and 2) Encode your labels (y) as integers starting with 0, i.e. 0, 1, 2, ..., [num_class - 1].\n",
      "  warnings.warn(label_encoder_deprecation_msg, UserWarning)\n",
      "/srv/conda/envs/saturn/lib/python3.9/site-packages/xgboost/data.py:262: FutureWarning: pandas.Int64Index is deprecated and will be removed from pandas in a future version. Use pandas.Index with the appropriate dtype instead.\n",
      "  elif isinstance(data.columns, (pd.Int64Index, pd.RangeIndex)):\n"
     ]
    },
    {
     "name": "stdout",
     "output_type": "stream",
     "text": [
      "[15:39:40] WARNING: /home/conda/feedstock_root/build_artifacts/xgboost-split_1645117766796/work/src/learner.cc:1115: Starting in XGBoost 1.3.0, the default evaluation metric used with the objective 'binary:logistic' was changed from 'error' to 'logloss'. Explicitly set eval_metric if you'd like to restore the old behavior.\n",
      "############################################################\n",
      "####################### Naive Bayes ########################\n",
      "############################################################\n",
      "+++++ Creating and fitting the Naive Bayes model using its default parameters...\n",
      "############################################################\n",
      "####### All models created and fitted successfully! ########\n",
      "############################################################\n"
     ]
    },
    {
     "name": "stderr",
     "output_type": "stream",
     "text": [
      "/srv/conda/envs/saturn/lib/python3.9/site-packages/xgboost/data.py:262: FutureWarning: pandas.Int64Index is deprecated and will be removed from pandas in a future version. Use pandas.Index with the appropriate dtype instead.\n",
      "  elif isinstance(data.columns, (pd.Int64Index, pd.RangeIndex)):\n"
     ]
    },
    {
     "name": "stdout",
     "output_type": "stream",
     "text": [
      "############################################################\n",
      "###### All model predictions generated successfully! #######\n",
      "############################################################\n"
     ]
    },
    {
     "name": "stderr",
     "output_type": "stream",
     "text": [
      "/srv/conda/envs/saturn/lib/python3.9/site-packages/xgboost/data.py:262: FutureWarning: pandas.Int64Index is deprecated and will be removed from pandas in a future version. Use pandas.Index with the appropriate dtype instead.\n",
      "  elif isinstance(data.columns, (pd.Int64Index, pd.RangeIndex)):\n"
     ]
    }
   ],
   "source": [
    "# create a ClassifierModels object for the base dataset\n",
    "cm_base = ClassifierModels(\n",
    "    df, x_train_base, y_train_base, x_test_base, y_test_base)\n"
   ]
  },
  {
   "cell_type": "markdown",
   "metadata": {},
   "source": [
    "# Model Performance"
   ]
  },
  {
   "cell_type": "markdown",
   "metadata": {},
   "source": [
    "## Comparison"
   ]
  },
  {
   "cell_type": "code",
   "execution_count": 64,
   "metadata": {
    "execution": {
     "iopub.execute_input": "2022-11-05T15:41:08.329049Z",
     "iopub.status.busy": "2022-11-05T15:41:08.328220Z",
     "iopub.status.idle": "2022-11-05T15:41:10.066523Z",
     "shell.execute_reply": "2022-11-05T15:41:10.065970Z",
     "shell.execute_reply.started": "2022-11-05T15:41:08.329018Z"
    },
    "tags": []
   },
   "outputs": [
    {
     "name": "stdout",
     "output_type": "stream",
     "text": [
      "Base Model Performance:\n",
      "+--------------------------+--------------------+--------------------+--------------------+--------------------+\n",
      "|                          |      Accuracy      |     Precision      |       Recall       |      F1 Score      |\n",
      "+--------------------------+--------------------+--------------------+--------------------+--------------------+\n",
      "|   Logistic Regression    | 0.9990051847430451 | 0.9989479753293283 | 0.9990051847430451 | 0.9989718116523109 |\n",
      "|  KNeighbors Classifier   | 0.9984668141333989 | 0.9984691649023513 | 0.9984668141333989 | 0.9977449297998167 |\n",
      "| Decision Tree Classifier | 0.9991456292499094 | 0.9991424900460074 | 0.9991456292499094 | 0.9991440437039558 |\n",
      "| Random Forest Classifier | 0.9994733330992591 | 0.9994470025132738 | 0.9994733330992591 | 0.999448847664733  |\n",
      "|    Voting Classifier     | 0.9993562960102056 | 0.9993237636607954 | 0.9993562960102056 | 0.9992954095469597 |\n",
      "|      XGB Classifier      | 0.9995435553526912 | 0.999525045538496  | 0.9995435553526912 | 0.9995203007965144 |\n",
      "|       Naive Bayes        | 0.9933288859239493 | 0.9980671820191609 | 0.9933288859239493 | 0.9954414425538293 |\n",
      "+--------------------------+--------------------+--------------------+--------------------+--------------------+\n",
      "SMOTE Model Performance:\n",
      "+--------------------------+--------------------+--------------------+--------------------+--------------------+\n",
      "|                          |      Accuracy      |     Precision      |       Recall       |      F1 Score      |\n",
      "+--------------------------+--------------------+--------------------+--------------------+--------------------+\n",
      "|   Logistic Regression    | 0.9714577141550744 | 0.9715704821373937 | 0.9714577141550744 | 0.9714556507646837 |\n",
      "|  KNeighbors Classifier   | 0.9582739801511234 | 0.9588153631533937 | 0.9582739801511234 | 0.958262837739284  |\n",
      "| Decision Tree Classifier | 0.9981534565534707 | 0.9981545306839245 | 0.9981534565534707 | 0.9981534576797758 |\n",
      "| Random Forest Classifier | 0.9998944832316269 | 0.9998944967264276 | 0.9998944832316269 | 0.9998944832444701 |\n",
      "|    Voting Classifier     | 0.9992613826213882 | 0.9992614624134742 | 0.9992613826213882 | 0.9992613828224609 |\n",
      "|      XGB Classifier      | 0.9998241387193781 | 0.9998241852465273 | 0.9998241387193781 | 0.9998241387572451 |\n",
      "|       Naive Bayes        | 0.8671954229170696 | 0.8917858401638796 | 0.8671954229170696 | 0.865048138128556  |\n",
      "+--------------------------+--------------------+--------------------+--------------------+--------------------+\n",
      "RUS Model Performance:\n",
      "+--------------------------+--------------------+--------------------+--------------------+--------------------+\n",
      "|                          |      Accuracy      |     Precision      |       Recall       |      F1 Score      |\n",
      "+--------------------------+--------------------+--------------------+--------------------+--------------------+\n",
      "|   Logistic Regression    | 0.9358108108108109 | 0.9384146590028942 | 0.9358108108108109 | 0.9358188697171749 |\n",
      "|  KNeighbors Classifier   | 0.6351351351351351 | 0.6347550675675675 | 0.6351351351351351 | 0.6346837145535765 |\n",
      "| Decision Tree Classifier | 0.9054054054054054 | 0.9063914660929586 | 0.9054054054054054 | 0.9052318691834377 |\n",
      "| Random Forest Classifier | 0.9358108108108109 | 0.9394099315513179 | 0.9358108108108109 | 0.9358012866487442 |\n",
      "|    Voting Classifier     | 0.9290540540540541 | 0.9308163038580943 | 0.9290540540540541 | 0.9290759192079863 |\n",
      "|      XGB Classifier      | 0.9425675675675675 | 0.945188401070754  | 0.9425675675675675 | 0.9425747781679984 |\n",
      "|       Naive Bayes        | 0.8581081081081081 | 0.8873652426284006 | 0.8581081081081081 | 0.8562779197107556 |\n",
      "+--------------------------+--------------------+--------------------+--------------------+--------------------+\n"
     ]
    }
   ],
   "source": [
    "print('Base Model Performance:\\n', cm_base.show_performance(), sep='')\n",
    "print('SMOTE Model Performance:\\n', cm_smote.show_performance(), sep='')\n",
    "print('RUS Model Performance:\\n', cm_rus.show_performance(), sep='')"
   ]
  },
  {
   "cell_type": "markdown",
   "metadata": {},
   "source": [
    "## ROC"
   ]
  },
  {
   "cell_type": "code",
   "execution_count": 65,
   "metadata": {
    "execution": {
     "iopub.execute_input": "2022-11-05T15:41:10.067760Z",
     "iopub.status.busy": "2022-11-05T15:41:10.067330Z",
     "iopub.status.idle": "2022-11-05T15:41:10.778077Z",
     "shell.execute_reply": "2022-11-05T15:41:10.777559Z",
     "shell.execute_reply.started": "2022-11-05T15:41:10.067740Z"
    },
    "tags": []
   },
   "outputs": [
    {
     "data": {
      "text/plain": [
       "Text(0.5, 1.0, 'ROC Curve for RUS Model')"
      ]
     },
     "execution_count": 65,
     "metadata": {},
     "output_type": "execute_result"
    },
    {
     "data": {
      "image/png": "[encoded data removed]",
      "text/plain": [
       "<Figure size 1728x576 with 3 Axes>"
      ]
     },
     "metadata": {
      "needs_background": "light"
     },
     "output_type": "display_data"
    }
   ],
   "source": [
    "# empty dictionaries to hold the roc values\n",
    "roc_results_base = {}\n",
    "roc_results_smote = {}\n",
    "roc_results_rus = {}\n",
    "\n",
    "# get the fpr and tpr for each set of models\n",
    "for model in cm_base.model_abr:\n",
    "    fpr, tpr, thresholds = roc_curve(\n",
    "        cm_base.y_test, cm_base.model_predicts_proba[model][:, 1])\n",
    "\n",
    "    roc_results_base[model] = [fpr, tpr, thresholds]\n",
    "\n",
    "for model in cm_smote.model_abr:\n",
    "    fpr, tpr, thresholds = roc_curve(\n",
    "        cm_smote.y_test, cm_smote.model_predicts_proba[model][:, 1])\n",
    "\n",
    "    roc_results_smote[model] = [fpr, tpr, thresholds]\n",
    "\n",
    "for model in cm_rus.model_abr:\n",
    "    fpr, tpr, thresholds = roc_curve(\n",
    "        cm_rus.y_test, cm_rus.model_predicts_proba[model][:, 1])\n",
    "\n",
    "    roc_results_rus[model] = [fpr, tpr, thresholds]\n",
    "\n",
    "# three subplots please\n",
    "fig, ((ax0, ax1, ax2)) = plt.subplots(1, 3, figsize=(24, 8))\n",
    "# fig, ((ax0, ax1)) = plt.subplots(1, 2, figsize=(15, 8))\n",
    "\n",
    "# base model\n",
    "ax0.plot([0, 1], [0, 1], 'k--')\n",
    "for model in roc_results_base:\n",
    "    ax0.plot(roc_results_base[model][0],\n",
    "             roc_results_base[model][1], c=np.random.rand(3,), label=cm_base.model_abr[model])\n",
    "ax0.set_xlabel('False Positive Rate')\n",
    "ax0.set_ylabel('True Positive Rate')\n",
    "\n",
    "ax0.legend()\n",
    "ax0.set_title('ROC Curve for Base Model')\n",
    "\n",
    "# SMOTE model\n",
    "ax1.plot([0, 1], [0, 1], 'k--')\n",
    "for model in roc_results_smote:\n",
    "    ax1.plot(roc_results_smote[model][0],\n",
    "             roc_results_smote[model][1], c=np.random.rand(3,), label=cm_smote.model_abr[model])\n",
    "ax1.set_xlabel('False Positive Rate')\n",
    "ax1.set_ylabel('True Positive Rate')\n",
    "\n",
    "ax1.legend()\n",
    "ax1.set_title('ROC Curve for SMOTE Model')\n",
    "\n",
    "# RUS model\n",
    "ax2.plot([0, 1], [0, 1], 'k--')\n",
    "for model in roc_results_rus:\n",
    "    ax2.plot(roc_results_rus[model][0],\n",
    "             roc_results_rus[model][1], c=np.random.rand(3,), label=cm_rus.model_abr[model])\n",
    "ax2.set_xlabel('False Positive Rate')\n",
    "ax2.set_ylabel('True Positive Rate')\n",
    "\n",
    "ax2.legend()\n",
    "ax2.set_title('ROC Curve for RUS Model')\n",
    "\n"
   ]
  },
  {
   "cell_type": "markdown",
   "metadata": {},
   "source": [
    "## AUC"
   ]
  },
  {
   "cell_type": "code",
   "execution_count": 66,
   "metadata": {
    "execution": {
     "iopub.execute_input": "2022-11-05T15:41:10.780287Z",
     "iopub.status.busy": "2022-11-05T15:41:10.780016Z",
     "iopub.status.idle": "2022-11-05T15:41:11.183582Z",
     "shell.execute_reply": "2022-11-05T15:41:11.182850Z",
     "shell.execute_reply.started": "2022-11-05T15:41:10.780266Z"
    },
    "tags": []
   },
   "outputs": [
    {
     "name": "stdout",
     "output_type": "stream",
     "text": [
      "+--------------------------+--------------------+--------------------+--------------------+\n",
      "|                          |  AUC (Base Model)  | AUC (SMOTE Model)  |  AUC (RUS Model)   |\n",
      "+--------------------------+--------------------+--------------------+--------------------+\n",
      "|   Logistic Regression    | 0.8813878773038525 | 0.9930571778281003 | 0.9753521126760563 |\n",
      "|  KNeighbors Classifier   | 0.5910337964916668 | 0.9883800208258655 | 0.6681223705871593 |\n",
      "| Decision Tree Classifier | 0.8627519628222962 | 0.9981545989160094 | 0.9041521858423266 |\n",
      "| Random Forest Classifier | 0.9313089910372697 | 0.9999929804728482 | 0.9789875617340406 |\n",
      "|    Voting Classifier     | 0.9277433057383355 | 0.999982633446807  | 0.9814340588988477 |\n",
      "|      XGB Classifier      | 0.9775313504529991 | 0.9999928940826858 | 0.9854124748490947 |\n",
      "|       Naive Bayes        | 0.9647554655982938 | 0.9823156754738871 | 0.9640570696908726 |\n",
      "+--------------------------+--------------------+--------------------+--------------------+\n"
     ]
    }
   ],
   "source": [
    "# table headers and a dictionary to hold the values\n",
    "headers = ['AUC (Base Model)', 'AUC (SMOTE Model)', 'AUC (RUS Model)']\n",
    "# headers = ['AUC (Base Model)', 'AUC (RUS Model)']\n",
    "tbl_data_dict = {}\n",
    "\n",
    "# loop over the classifier models and then their keys abbreviated keys\n",
    "for model in [cm_base, cm_smote, cm_rus]:\n",
    "# for model in [cm_base, cm_rus]:\n",
    "    for k in model.model_abr:\n",
    "        auc = roc_auc_score(model.y_test, model.model_predicts_proba[k][:, 1])\n",
    "        tbl_data_dict.setdefault(model.model_abr[k], []).append(auc)\n",
    "\n",
    "# create the table data from the dictionary created above\n",
    "# tabulate doesn't take table data in the form of dictionary created above\n",
    "tbldata = []\n",
    "for k, v in tbl_data_dict.items():\n",
    "    tbldata.append([k] + v)\n",
    "\n",
    "print(tabulate(tbldata, headers=headers, tablefmt='pretty'))\n"
   ]
  },
  {
   "cell_type": "code",
   "execution_count": 67,
   "metadata": {
    "execution": {
     "iopub.execute_input": "2022-11-05T15:41:11.184635Z",
     "iopub.status.busy": "2022-11-05T15:41:11.184359Z",
     "iopub.status.idle": "2022-11-05T15:41:11.196015Z",
     "shell.execute_reply": "2022-11-05T15:41:11.195469Z",
     "shell.execute_reply.started": "2022-11-05T15:41:11.184614Z"
    },
    "tags": []
   },
   "outputs": [
    {
     "data": {
      "text/html": [
       "<div>\n",
       "<style scoped>\n",
       "    .dataframe tbody tr th:only-of-type {\n",
       "        vertical-align: middle;\n",
       "    }\n",
       "\n",
       "    .dataframe tbody tr th {\n",
       "        vertical-align: top;\n",
       "    }\n",
       "\n",
       "    .dataframe thead th {\n",
       "        text-align: right;\n",
       "    }\n",
       "</style>\n",
       "<table border=\"1\" class=\"dataframe\">\n",
       "  <thead>\n",
       "    <tr style=\"text-align: right;\">\n",
       "      <th></th>\n",
       "      <th>Dataset Type</th>\n",
       "      <th>Logistic Regression</th>\n",
       "      <th>KNeighbors Classifier</th>\n",
       "      <th>Decision Tree Classifier</th>\n",
       "      <th>Random Forest Classifier</th>\n",
       "      <th>Voting Classifier</th>\n",
       "      <th>XGB Classifier</th>\n",
       "      <th>Naive Bayes</th>\n",
       "    </tr>\n",
       "  </thead>\n",
       "  <tbody>\n",
       "    <tr>\n",
       "      <th>0</th>\n",
       "      <td>Base</td>\n",
       "      <td>0.881388</td>\n",
       "      <td>0.591034</td>\n",
       "      <td>0.862752</td>\n",
       "      <td>0.931309</td>\n",
       "      <td>0.927743</td>\n",
       "      <td>0.977531</td>\n",
       "      <td>0.964755</td>\n",
       "    </tr>\n",
       "    <tr>\n",
       "      <th>1</th>\n",
       "      <td>SMOTE</td>\n",
       "      <td>0.993057</td>\n",
       "      <td>0.988380</td>\n",
       "      <td>0.998155</td>\n",
       "      <td>0.999993</td>\n",
       "      <td>0.999983</td>\n",
       "      <td>0.999993</td>\n",
       "      <td>0.982316</td>\n",
       "    </tr>\n",
       "    <tr>\n",
       "      <th>2</th>\n",
       "      <td>RUS</td>\n",
       "      <td>0.975352</td>\n",
       "      <td>0.668122</td>\n",
       "      <td>0.904152</td>\n",
       "      <td>0.978988</td>\n",
       "      <td>0.981434</td>\n",
       "      <td>0.985412</td>\n",
       "      <td>0.964057</td>\n",
       "    </tr>\n",
       "  </tbody>\n",
       "</table>\n",
       "<p>3 rows × 8 columns</p>\n",
       "</div>"
      ],
      "text/plain": [
       "  Dataset Type  Logistic Regression  KNeighbors Classifier  \\\n",
       "0         Base             0.881388               0.591034   \n",
       "1        SMOTE             0.993057               0.988380   \n",
       "2          RUS             0.975352               0.668122   \n",
       "\n",
       "   Decision Tree Classifier  Random Forest Classifier  Voting Classifier  \\\n",
       "0                  0.862752                  0.931309           0.927743   \n",
       "1                  0.998155                  0.999993           0.999983   \n",
       "2                  0.904152                  0.978988           0.981434   \n",
       "\n",
       "   XGB Classifier  Naive Bayes  \n",
       "0        0.977531     0.964755  \n",
       "1        0.999993     0.982316  \n",
       "2        0.985412     0.964057  \n",
       "\n",
       "[3 rows x 8 columns]"
      ]
     },
     "execution_count": 67,
     "metadata": {},
     "output_type": "execute_result"
    }
   ],
   "source": [
    "# df_auc = pd.DataFrame(['Base', 'RUS'], columns=['Dataset Type']).merge(\n",
    "#     right=pd.DataFrame(tbl_data_dict), left_index=True, right_index=True)\n",
    "df_auc = pd.DataFrame(['Base', 'SMOTE', 'RUS'], columns=['Dataset Type']).merge(\n",
    "    right=pd.DataFrame(tbl_data_dict), left_index=True, right_index=True)\n",
    "df_auc"
   ]
  },
  {
   "cell_type": "code",
   "execution_count": 68,
   "metadata": {
    "execution": {
     "iopub.execute_input": "2022-11-05T15:41:11.197050Z",
     "iopub.status.busy": "2022-11-05T15:41:11.196696Z",
     "iopub.status.idle": "2022-11-05T15:41:11.206364Z",
     "shell.execute_reply": "2022-11-05T15:41:11.205758Z",
     "shell.execute_reply.started": "2022-11-05T15:41:11.197030Z"
    },
    "tags": []
   },
   "outputs": [
    {
     "data": {
      "text/html": [
       "<div>\n",
       "<style scoped>\n",
       "    .dataframe tbody tr th:only-of-type {\n",
       "        vertical-align: middle;\n",
       "    }\n",
       "\n",
       "    .dataframe tbody tr th {\n",
       "        vertical-align: top;\n",
       "    }\n",
       "\n",
       "    .dataframe thead th {\n",
       "        text-align: right;\n",
       "    }\n",
       "</style>\n",
       "<table border=\"1\" class=\"dataframe\">\n",
       "  <thead>\n",
       "    <tr style=\"text-align: right;\">\n",
       "      <th></th>\n",
       "      <th>Dataset Type</th>\n",
       "      <th>Model</th>\n",
       "      <th>AUC</th>\n",
       "    </tr>\n",
       "  </thead>\n",
       "  <tbody>\n",
       "    <tr>\n",
       "      <th>0</th>\n",
       "      <td>Base</td>\n",
       "      <td>Logistic Regression</td>\n",
       "      <td>0.881388</td>\n",
       "    </tr>\n",
       "    <tr>\n",
       "      <th>1</th>\n",
       "      <td>SMOTE</td>\n",
       "      <td>Logistic Regression</td>\n",
       "      <td>0.993057</td>\n",
       "    </tr>\n",
       "    <tr>\n",
       "      <th>2</th>\n",
       "      <td>RUS</td>\n",
       "      <td>Logistic Regression</td>\n",
       "      <td>0.975352</td>\n",
       "    </tr>\n",
       "    <tr>\n",
       "      <th>3</th>\n",
       "      <td>Base</td>\n",
       "      <td>KNeighbors Classifier</td>\n",
       "      <td>0.591034</td>\n",
       "    </tr>\n",
       "    <tr>\n",
       "      <th>4</th>\n",
       "      <td>SMOTE</td>\n",
       "      <td>KNeighbors Classifier</td>\n",
       "      <td>0.988380</td>\n",
       "    </tr>\n",
       "    <tr>\n",
       "      <th>5</th>\n",
       "      <td>RUS</td>\n",
       "      <td>KNeighbors Classifier</td>\n",
       "      <td>0.668122</td>\n",
       "    </tr>\n",
       "    <tr>\n",
       "      <th>6</th>\n",
       "      <td>Base</td>\n",
       "      <td>Decision Tree Classifier</td>\n",
       "      <td>0.862752</td>\n",
       "    </tr>\n",
       "    <tr>\n",
       "      <th>7</th>\n",
       "      <td>SMOTE</td>\n",
       "      <td>Decision Tree Classifier</td>\n",
       "      <td>0.998155</td>\n",
       "    </tr>\n",
       "    <tr>\n",
       "      <th>8</th>\n",
       "      <td>RUS</td>\n",
       "      <td>Decision Tree Classifier</td>\n",
       "      <td>0.904152</td>\n",
       "    </tr>\n",
       "    <tr>\n",
       "      <th>9</th>\n",
       "      <td>Base</td>\n",
       "      <td>Random Forest Classifier</td>\n",
       "      <td>0.931309</td>\n",
       "    </tr>\n",
       "    <tr>\n",
       "      <th>10</th>\n",
       "      <td>SMOTE</td>\n",
       "      <td>Random Forest Classifier</td>\n",
       "      <td>0.999993</td>\n",
       "    </tr>\n",
       "    <tr>\n",
       "      <th>11</th>\n",
       "      <td>RUS</td>\n",
       "      <td>Random Forest Classifier</td>\n",
       "      <td>0.978988</td>\n",
       "    </tr>\n",
       "    <tr>\n",
       "      <th>12</th>\n",
       "      <td>Base</td>\n",
       "      <td>Voting Classifier</td>\n",
       "      <td>0.927743</td>\n",
       "    </tr>\n",
       "    <tr>\n",
       "      <th>13</th>\n",
       "      <td>SMOTE</td>\n",
       "      <td>Voting Classifier</td>\n",
       "      <td>0.999983</td>\n",
       "    </tr>\n",
       "    <tr>\n",
       "      <th>14</th>\n",
       "      <td>RUS</td>\n",
       "      <td>Voting Classifier</td>\n",
       "      <td>0.981434</td>\n",
       "    </tr>\n",
       "    <tr>\n",
       "      <th>15</th>\n",
       "      <td>Base</td>\n",
       "      <td>XGB Classifier</td>\n",
       "      <td>0.977531</td>\n",
       "    </tr>\n",
       "    <tr>\n",
       "      <th>16</th>\n",
       "      <td>SMOTE</td>\n",
       "      <td>XGB Classifier</td>\n",
       "      <td>0.999993</td>\n",
       "    </tr>\n",
       "    <tr>\n",
       "      <th>17</th>\n",
       "      <td>RUS</td>\n",
       "      <td>XGB Classifier</td>\n",
       "      <td>0.985412</td>\n",
       "    </tr>\n",
       "    <tr>\n",
       "      <th>18</th>\n",
       "      <td>Base</td>\n",
       "      <td>Naive Bayes</td>\n",
       "      <td>0.964755</td>\n",
       "    </tr>\n",
       "    <tr>\n",
       "      <th>19</th>\n",
       "      <td>SMOTE</td>\n",
       "      <td>Naive Bayes</td>\n",
       "      <td>0.982316</td>\n",
       "    </tr>\n",
       "    <tr>\n",
       "      <th>20</th>\n",
       "      <td>RUS</td>\n",
       "      <td>Naive Bayes</td>\n",
       "      <td>0.964057</td>\n",
       "    </tr>\n",
       "  </tbody>\n",
       "</table>\n",
       "<p>21 rows × 3 columns</p>\n",
       "</div>"
      ],
      "text/plain": [
       "   Dataset Type                     Model       AUC\n",
       "0          Base       Logistic Regression  0.881388\n",
       "1         SMOTE       Logistic Regression  0.993057\n",
       "2           RUS       Logistic Regression  0.975352\n",
       "3          Base     KNeighbors Classifier  0.591034\n",
       "4         SMOTE     KNeighbors Classifier  0.988380\n",
       "5           RUS     KNeighbors Classifier  0.668122\n",
       "6          Base  Decision Tree Classifier  0.862752\n",
       "7         SMOTE  Decision Tree Classifier  0.998155\n",
       "8           RUS  Decision Tree Classifier  0.904152\n",
       "9          Base  Random Forest Classifier  0.931309\n",
       "10        SMOTE  Random Forest Classifier  0.999993\n",
       "11          RUS  Random Forest Classifier  0.978988\n",
       "12         Base         Voting Classifier  0.927743\n",
       "13        SMOTE         Voting Classifier  0.999983\n",
       "14          RUS         Voting Classifier  0.981434\n",
       "15         Base            XGB Classifier  0.977531\n",
       "16        SMOTE            XGB Classifier  0.999993\n",
       "17          RUS            XGB Classifier  0.985412\n",
       "18         Base               Naive Bayes  0.964755\n",
       "19        SMOTE               Naive Bayes  0.982316\n",
       "20          RUS               Naive Bayes  0.964057\n",
       "\n",
       "[21 rows x 3 columns]"
      ]
     },
     "execution_count": 68,
     "metadata": {},
     "output_type": "execute_result"
    }
   ],
   "source": [
    "df_auc.melt(id_vars=['Dataset Type'], var_name='Model', value_name='AUC')"
   ]
  },
  {
   "cell_type": "code",
   "execution_count": 69,
   "metadata": {
    "execution": {
     "iopub.execute_input": "2022-11-05T15:41:11.207607Z",
     "iopub.status.busy": "2022-11-05T15:41:11.207041Z",
     "iopub.status.idle": "2022-11-05T15:41:11.455233Z",
     "shell.execute_reply": "2022-11-05T15:41:11.454754Z",
     "shell.execute_reply.started": "2022-11-05T15:41:11.207587Z"
    },
    "tags": []
   },
   "outputs": [
    {
     "data": {
      "text/plain": [
       "Text(0.5, 1.0, 'AUC for Models')"
      ]
     },
     "execution_count": 69,
     "metadata": {},
     "output_type": "execute_result"
    },
    {
     "data": {
      "image/png": "[encoded data removed]",
      "text/plain": [
       "<Figure size 720x360 with 1 Axes>"
      ]
     },
     "metadata": {
      "needs_background": "light"
     },
     "output_type": "display_data"
    }
   ],
   "source": [
    "fig, axes = plt.subplots(figsize=(10, 5))\n",
    "ax = sns.barplot(df_auc.melt(id_vars=['Dataset Type'], var_name='Model',\n",
    "                 value_name='AUC'), x='Model', y='AUC', hue='Dataset Type')\n",
    "ax.set_xticklabels(ax.get_xticklabels(), rotation=45, ha=\"right\")\n",
    "ax.set_title('AUC for Models')"
   ]
  },
  {
   "cell_type": "code",
   "execution_count": null,
   "metadata": {},
   "outputs": [],
   "source": []
  }
 ],
 "metadata": {
  "kernelspec": {
   "display_name": "saturn (Python 3)",
   "language": "python",
   "name": "python3"
  },
  "language_info": {
   "codemirror_mode": {
    "name": "ipython",
    "version": 3
   },
   "file_extension": ".py",
   "mimetype": "text/x-python",
   "name": "python",
   "nbconvert_exporter": "python",
   "pygments_lexer": "ipython3",
   "version": "3.9.12"
  },
  "vscode": {
   "interpreter": {
    "hash": "31f2aee4e71d21fbe5cf8b01ff0e069b9275f58929596ceb00d14d90e3e16cd6"
   }
  }
 },
 "nbformat": 4,
 "nbformat_minor": 4
}
